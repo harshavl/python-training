{
  "nbformat": 4,
  "nbformat_minor": 0,
  "metadata": {
    "colab": {
      "provenance": []
    },
    "kernelspec": {
      "name": "python3",
      "display_name": "Python 3"
    },
    "language_info": {
      "name": "python"
    }
  },
  "cells": [
    {
      "cell_type": "code",
      "execution_count": null,
      "metadata": {
        "colab": {
          "base_uri": "https://localhost:8080/"
        },
        "id": "NSXQfmVhDlBe",
        "outputId": "3859ee81-0472-4411-8f63-e337968e551d"
      },
      "outputs": [
        {
          "output_type": "stream",
          "name": "stdout",
          "text": [
            "False\n"
          ]
        }
      ],
      "source": [
        "\n",
        "# Balanced Brackets\n",
        "def matched( list1 ):\n",
        "\n",
        "  count = 0\n",
        "  for i in list1:\n",
        "    if '(' in i:\n",
        "      count = count + 1\n",
        "    elif ')' in i:\n",
        "      count = count - 1\n",
        "\n",
        "  return True if count == 0 else False\n",
        "\n",
        "\n",
        "print( matched(['(',')', ')'] ))\n",
        "\n",
        "\n"
      ]
    },
    {
      "cell_type": "code",
      "source": [
        "from pyarabic.stack import Stack\n",
        "\n",
        "def is_match(p1, p2):\n",
        "    if p1 == \"(\" and p2 == \")\":\n",
        "        return True\n",
        "    elif p1 == \"{\" and p2 == \"}\":\n",
        "        return True\n",
        "    elif p1 == \"[\" and p2 == \"]\":\n",
        "        return True\n",
        "    else:\n",
        "        return False\n",
        "\n",
        "\n",
        "def is_paren_balanced(paren_string):\n",
        "    s = Stack()\n",
        "    is_balanced = True\n",
        "    index = 0\n",
        "\n",
        "    while index < len(paren_string) and is_balanced:\n",
        "        paren = paren_string[index]\n",
        "        if paren in \"([{\":\n",
        "            s.push(paren)\n",
        "        else:\n",
        "            if s.is_empty():\n",
        "                is_balanced = False\n",
        "                break\n",
        "            else:\n",
        "                top = s.pop()\n",
        "                if not is_match(top, paren):\n",
        "                    is_balanced = False\n",
        "                    break\n",
        "        index += 1\n",
        "\n",
        "    if s.is_empty() and is_balanced:\n",
        "        return True\n",
        "    else:\n",
        "        return False\n",
        "\n",
        "print(\"String : (((({})))) Balanced or not?\")\n",
        "print(is_paren_balanced(\"(((({}))))\"))\n",
        "\n",
        "print(\"String : [][]]] Balanced or not?\")\n",
        "print(is_paren_balanced(\"[][]]]\"))\n",
        "\n",
        "print(\"String : [][] Balanced or not?\")\n",
        "print(is_paren_balanced(\"[][]\"))"
      ],
      "metadata": {
        "colab": {
          "base_uri": "https://localhost:8080/"
        },
        "id": "wbz2dsJJERZR",
        "outputId": "e363f66b-2a69-4fd1-eea0-8e095f5bc92c"
      },
      "execution_count": null,
      "outputs": [
        {
          "output_type": "stream",
          "name": "stdout",
          "text": [
            "String : (((({})))) Balanced or not?\n",
            "True\n",
            "String : [][]]] Balanced or not?\n",
            "False\n",
            "String : [][] Balanced or not?\n",
            "True\n"
          ]
        }
      ]
    },
    {
      "cell_type": "code",
      "source": [
        "! pip3 install pyarabic"
      ],
      "metadata": {
        "colab": {
          "base_uri": "https://localhost:8080/"
        },
        "id": "Zl_Fl0qdJOXA",
        "outputId": "ac8cc2c7-a230-4d6f-e189-dde508e845af"
      },
      "execution_count": null,
      "outputs": [
        {
          "output_type": "stream",
          "name": "stdout",
          "text": [
            "Collecting pyarabic\n",
            "  Downloading PyArabic-0.6.15-py3-none-any.whl.metadata (10 kB)\n",
            "Requirement already satisfied: six>=1.14.0 in /usr/local/lib/python3.10/dist-packages (from pyarabic) (1.16.0)\n",
            "Downloading PyArabic-0.6.15-py3-none-any.whl (126 kB)\n",
            "\u001b[?25l   \u001b[90m━━━━━━━━━━━━━━━━━━━━━━━━━━━━━━━━━━━━━━━━\u001b[0m \u001b[32m0.0/126.4 kB\u001b[0m \u001b[31m?\u001b[0m eta \u001b[36m-:--:--\u001b[0m\r\u001b[2K   \u001b[90m━━━━━━━━━━━━━━━━━━━━━━━━━━━━━━━━━━━━━━━━\u001b[0m \u001b[32m126.4/126.4 kB\u001b[0m \u001b[31m5.3 MB/s\u001b[0m eta \u001b[36m0:00:00\u001b[0m\n",
            "\u001b[?25hInstalling collected packages: pyarabic\n",
            "Successfully installed pyarabic-0.6.15\n"
          ]
        }
      ]
    },
    {
      "cell_type": "code",
      "source": [
        "# Reverse Strings\n",
        "\n",
        "input_str = \"ducative\"\n",
        "\n",
        "print( input_str[::-1] )\n",
        "\n"
      ],
      "metadata": {
        "id": "iUBii_WlJZif",
        "colab": {
          "base_uri": "https://localhost:8080/"
        },
        "outputId": "187871e0-f4f8-4ac9-c234-476c36e63e26"
      },
      "execution_count": null,
      "outputs": [
        {
          "output_type": "stream",
          "name": "stdout",
          "text": [
            "evitacud\n"
          ]
        }
      ]
    },
    {
      "cell_type": "code",
      "source": [
        "low = 0\n",
        "high = len(input_str) - 1\n",
        "\n",
        "while low <= high:\n",
        "  print( input_str[high], end=\"\" )\n",
        "  high = high - 1\n",
        "\n",
        "\n"
      ],
      "metadata": {
        "colab": {
          "base_uri": "https://localhost:8080/"
        },
        "id": "M9xUl1L0G_Bw",
        "outputId": "825d6c0b-b61c-4cde-a01d-a3deec381b70"
      },
      "execution_count": null,
      "outputs": [
        {
          "output_type": "stream",
          "name": "stdout",
          "text": [
            "evitacud"
          ]
        }
      ]
    },
    {
      "cell_type": "code",
      "source": [
        "# Using Stack\n",
        "\n",
        "from pyarabic.stack import Stack\n",
        "\n",
        "def reverse_string( stack, input_str ):\n",
        "\n",
        "  for i in range(len( input_str ) ):\n",
        "    stack.push( input_str[i] )\n",
        "\n",
        "  rev_str = \"\"\n",
        "\n",
        "  while not stack.is_empty():\n",
        "    rev_str = rev_str + stack.pop()\n",
        "\n",
        "  return rev_str\n",
        "\n",
        "\n",
        "stack= Stack()\n",
        "input_str = \"Hello Harsha!!\"\n",
        "\n",
        "print( reverse_string( stack, input_str ))"
      ],
      "metadata": {
        "colab": {
          "base_uri": "https://localhost:8080/"
        },
        "id": "Eq9eACkVHcmx",
        "outputId": "aa5b0a76-43d2-4ccb-e5b1-061ab794dd04"
      },
      "execution_count": null,
      "outputs": [
        {
          "output_type": "stream",
          "name": "stdout",
          "text": [
            "!!ahsraH olleH\n"
          ]
        }
      ]
    },
    {
      "cell_type": "code",
      "source": [
        "# Integer to Binary\n",
        "\n",
        "dec_num = 242\n",
        "rem = \"\"\n",
        "while dec_num > 0:\n",
        "  rem = rem + str( dec_num % 2 )\n",
        "\n",
        "  dec_num = dec_num // 2\n",
        "\n",
        "print( rem[::-1] )  # should be reverse\n",
        "\n"
      ],
      "metadata": {
        "colab": {
          "base_uri": "https://localhost:8080/"
        },
        "id": "Z0jvmqPlI_UT",
        "outputId": "144d014f-8fb7-4e8d-a19a-17595a3cfa68"
      },
      "execution_count": null,
      "outputs": [
        {
          "output_type": "stream",
          "name": "stdout",
          "text": [
            "11110010\n"
          ]
        }
      ]
    },
    {
      "cell_type": "code",
      "source": [
        "# using stack\n",
        "\n",
        "from pyarabic.stack import Stack\n",
        "\n",
        "\n",
        "def convert_int_to_bin( stack, dec_num ):\n",
        "\n",
        "  if dec_num == 0:\n",
        "    return 0\n",
        "\n",
        "  while dec_num > 0:\n",
        "    rem = dec_num % 2\n",
        "    stack.push( rem )\n",
        "    dec_num = dec_num // 2\n",
        "\n",
        "  bin_num = \"\"\n",
        "  while not stack.is_empty():\n",
        "    bin_num = bin_num + str( stack.pop() )\n",
        "\n",
        "  return bin_num\n",
        "\n",
        "stack = Stack()\n",
        "\n",
        "print( convert_int_to_bin( stack, 242))\n",
        "\n",
        "\n",
        "\n",
        "\n"
      ],
      "metadata": {
        "colab": {
          "base_uri": "https://localhost:8080/"
        },
        "id": "JXqqOg5eKj_f",
        "outputId": "4c84ce89-a7c7-4e94-da38-a77ab18d0f27"
      },
      "execution_count": null,
      "outputs": [
        {
          "output_type": "stream",
          "name": "stdout",
          "text": [
            "11110010\n"
          ]
        }
      ]
    },
    {
      "cell_type": "code",
      "source": [
        "## Linked list\n",
        "\n",
        "class Node:\n",
        "  def __init__(self, data):\n",
        "    self.data = data\n",
        "    self.next = None\n",
        "\n",
        "class LinkedList:\n",
        "  def __init__(self):\n",
        "    self.head = None\n",
        "\n",
        "  def print_list(self):\n",
        "    cur_node = self.head\n",
        "    while cur_node:\n",
        "      print(cur_node.data)\n",
        "      cur_node = cur_node.next\n",
        "\n",
        "  def append(self, data):\n",
        "    new_node = Node(data)\n",
        "    if self.head is None:\n",
        "      self.head = new_node\n",
        "      return\n",
        "    last_node = self.head\n",
        "    while last_node.next:\n",
        "      last_node = last_node.next\n",
        "    last_node.next = new_node\n",
        "\n",
        "  def prepend(self, data):\n",
        "    new_node = Node(data)\n",
        "\n",
        "    new_node.next = self.head\n",
        "    self.head = new_node\n",
        "\n",
        "  def insert_after_node(self, prev_node, data):\n",
        "    if not prev_node:\n",
        "      print(\"Previous node does not exist.\")\n",
        "      return\n",
        "    new_node = Node(data)\n",
        "\n",
        "    new_node.next = prev_node.next\n",
        "    prev_node.next = new_node\n",
        "\n",
        "\n",
        "\n",
        "llist = LinkedList()\n",
        "llist.append(\"A\")\n",
        "llist.append(\"B\")\n",
        "llist.append(\"C\")\n",
        "\n",
        "\n",
        "llist.insert_after_node(llist.head.next, \"D\")\n",
        "\n",
        "llist.print_list()"
      ],
      "metadata": {
        "colab": {
          "base_uri": "https://localhost:8080/"
        },
        "id": "JAhUGJkfNFDs",
        "outputId": "de89aafe-9a25-446f-8753-6a599ac0f745"
      },
      "execution_count": null,
      "outputs": [
        {
          "output_type": "stream",
          "name": "stdout",
          "text": [
            "A\n",
            "B\n",
            "D\n",
            "C\n"
          ]
        }
      ]
    },
    {
      "cell_type": "code",
      "source": [
        "# Arrays: Arbitrary Precision Increment\n",
        "# Problem: Add one to the integer.\n",
        "# Assume the solution still works even if implemented in a language with finite-precision arithmetic.\n",
        "\n",
        "N = 149\n",
        "\n",
        "print( N + 1 )"
      ],
      "metadata": {
        "colab": {
          "base_uri": "https://localhost:8080/"
        },
        "id": "656TLl6SOUIv",
        "outputId": "4fbc6627-f562-412c-8400-116f97c5e224"
      },
      "execution_count": null,
      "outputs": [
        {
          "output_type": "stream",
          "name": "stdout",
          "text": [
            "150\n"
          ]
        }
      ]
    },
    {
      "cell_type": "code",
      "source": [
        "A = [ 1,4,9]\n",
        "\n",
        "s = ''.join( map( str, A ) )\n",
        "print(s)\n",
        "\n",
        "print( int(s) + 1 )"
      ],
      "metadata": {
        "colab": {
          "base_uri": "https://localhost:8080/"
        },
        "id": "HggxBA3UQKgC",
        "outputId": "ba046859-f808-44f0-d7cc-dc77498217ca"
      },
      "execution_count": null,
      "outputs": [
        {
          "output_type": "stream",
          "name": "stdout",
          "text": [
            "149\n",
            "150\n"
          ]
        }
      ]
    },
    {
      "cell_type": "code",
      "source": [
        "# Two Sum Problem\n",
        "\n",
        "A = [ -2, 1 , 2 , 4 , 7, 11 ]\n",
        "\n",
        "target = 13\n",
        "\n",
        "\n",
        "def twoSum( A, target ):\n",
        "\n",
        "  low = 0\n",
        "  high = len(A) - 1\n",
        "\n",
        "  while low < high:\n",
        "    print( A[low], A[high] )\n",
        "\n",
        "    sum_value = A[low] + A[high]\n",
        "\n",
        "    if sum_value == target:\n",
        "      return A[low], A[high]\n",
        "\n",
        "    elif sum_value > target:\n",
        "      high = high - 1\n",
        "    else:\n",
        "      low = low + 1\n",
        "\n",
        "\n",
        "\n",
        "\n",
        "\n",
        "print( twoSum( A, 13 ))"
      ],
      "metadata": {
        "colab": {
          "base_uri": "https://localhost:8080/"
        },
        "id": "iE-_gUUkQYc-",
        "outputId": "30089638-ca71-47d9-c1f6-e7787280f6dc"
      },
      "execution_count": null,
      "outputs": [
        {
          "output_type": "stream",
          "name": "stdout",
          "text": [
            "-2 11\n",
            "1 11\n",
            "2 11\n",
            "(2, 11)\n"
          ]
        }
      ]
    },
    {
      "cell_type": "code",
      "source": [
        "\n",
        "A = [6, 3, 2, 7, 5, 5]\n",
        "\n",
        "A = sorted(A)\n",
        "\n",
        "for i in range(len(A)//2):\n",
        "    print(A[i], A[~i])\n",
        "\n"
      ],
      "metadata": {
        "colab": {
          "base_uri": "https://localhost:8080/"
        },
        "id": "JFExkTodRaYs",
        "outputId": "36ac053b-32ac-43f1-e39a-6eddc0e637a8"
      },
      "execution_count": null,
      "outputs": [
        {
          "output_type": "stream",
          "name": "stdout",
          "text": [
            "2 7\n",
            "3 6\n",
            "5 5\n"
          ]
        }
      ]
    },
    {
      "cell_type": "code",
      "source": [
        "# Intersection of Two Sorted Arrays\n",
        "\n",
        "A = [2, 3, 3, 5, 7, 11]\n",
        "B = [3, 3, 7, 15, 31]\n",
        "\n",
        "print(set(A).intersection(B))\n"
      ],
      "metadata": {
        "colab": {
          "base_uri": "https://localhost:8080/"
        },
        "id": "Y4M6FO5GTdLL",
        "outputId": "cbbe02a6-8e48-4aa9-9e81-03e696b9d671"
      },
      "execution_count": null,
      "outputs": [
        {
          "output_type": "stream",
          "name": "stdout",
          "text": [
            "{3, 7}\n"
          ]
        }
      ]
    },
    {
      "cell_type": "code",
      "source": [
        "def intersect_sorted_array(A, B):\n",
        "    i = 0\n",
        "    j = 0\n",
        "    intersection = []\n",
        "\n",
        "    while i < len(A) and j < len(B):\n",
        "        if A[i] == B[j]:\n",
        "            if i == 0 or A[i] != A[i - 1]:\n",
        "                intersection.append(A[i])\n",
        "            i += 1\n",
        "            j += 1\n",
        "        elif A[i] < B[j]:\n",
        "            i += 1\n",
        "        else:\n",
        "            j += 1\n",
        "    return intersection\n",
        "\n",
        "A = [2, 3, 3, 5, 7, 11]\n",
        "B = [3, 3, 7, 15, 31]\n",
        "\n",
        "print(intersect_sorted_array(A, B))\n"
      ],
      "metadata": {
        "colab": {
          "base_uri": "https://localhost:8080/"
        },
        "id": "p_UiUH3dUcSp",
        "outputId": "ca5392b0-2d51-4ea8-ed3c-1da62142fe8b"
      },
      "execution_count": null,
      "outputs": [
        {
          "output_type": "stream",
          "name": "stdout",
          "text": [
            "[3, 7]\n"
          ]
        }
      ]
    },
    {
      "cell_type": "code",
      "source": [
        "# Binary search\n",
        "\n",
        "data = [2,4,5,7,8,9,12,14,17,19,22,25,27,28,33,37]\n",
        "target = 37\n"
      ],
      "metadata": {
        "id": "ClSQ1916UgoB"
      },
      "execution_count": null,
      "outputs": []
    },
    {
      "cell_type": "code",
      "source": [
        "def linearSearch( A, target):\n",
        "  for i in range( len( A )):\n",
        "    if A[i] == target:\n",
        "      return True\n",
        "  return False\n",
        "\n",
        "print( linearSearch( data, target ))"
      ],
      "metadata": {
        "colab": {
          "base_uri": "https://localhost:8080/"
        },
        "id": "-vCGn2gRV66e",
        "outputId": "989eb7b6-1f4d-4bb2-f9ec-2af27e7889d9"
      },
      "execution_count": null,
      "outputs": [
        {
          "output_type": "stream",
          "name": "stdout",
          "text": [
            "True\n"
          ]
        }
      ]
    },
    {
      "cell_type": "code",
      "source": [
        "\n",
        "def binary_search_iterative(data, target):\n",
        "\tlow = 0\n",
        "\thigh = len(data) - 1\n",
        "\n",
        "\twhile low <= high:\n",
        "\t\tmid = (low + high) // 2\n",
        "\t\tif target == data[mid]:\n",
        "\t\t\treturn True\n",
        "\t\telif target < data[mid]:\n",
        "\t\t\thigh = mid - 1\n",
        "\t\telse:\n",
        "\t\t\tlow = mid + 1\n",
        "\n",
        "\treturn False\n",
        "\n",
        "\n",
        "print( binary_search_iterative( [2,3,4,5], 2 ))"
      ],
      "metadata": {
        "colab": {
          "base_uri": "https://localhost:8080/"
        },
        "id": "XGLAC0nMWIvj",
        "outputId": "adc55d46-522b-4528-a877-b6782224644f"
      },
      "execution_count": null,
      "outputs": [
        {
          "output_type": "stream",
          "name": "stdout",
          "text": [
            "True\n"
          ]
        }
      ]
    },
    {
      "cell_type": "code",
      "source": [],
      "metadata": {
        "id": "QGnYwRChWxde"
      },
      "execution_count": null,
      "outputs": []
    },
    {
      "cell_type": "markdown",
      "source": [
        "## Look-and-Say Sequence\n",
        "\n",
        "1, 11, 21, 1211, 111221, 312211, 13112221,\n",
        "\n",
        "For example, 1 is read off as one 1 which implies that the count of 1 is one. As 1 is read off as “one 1”, the next sequence will be written as 11 where 1 replaces one. Now 11 is read off as “two 1s” as the count of “1” is two in this term. Hence, the next term in the sequence becomes 21."
      ],
      "metadata": {
        "id": "i0OA4oX3cKvv"
      }
    },
    {
      "cell_type": "code",
      "source": [
        "def next_number(s):\n",
        "    result = []\n",
        "    i = 0\n",
        "    while i < len(s):\n",
        "        count = 1\n",
        "        while i + 1 < len(s) and s[i] == s[i+1]:\n",
        "            i += 1\n",
        "            count += 1\n",
        "        result.append(str(count) + s[i])\n",
        "        i += 1\n",
        "    return ''.join(result)\n",
        "\n",
        "s = \"1\"\n",
        "print(s)\n",
        "n = 4\n",
        "for i in range(n-1):\n",
        "    s = next_number(s)\n",
        "    print(s)"
      ],
      "metadata": {
        "colab": {
          "base_uri": "https://localhost:8080/"
        },
        "id": "5U5eisJVcO_o",
        "outputId": "3fc2a263-4e69-4840-beee-490009fd6bf3"
      },
      "execution_count": null,
      "outputs": [
        {
          "output_type": "stream",
          "name": "stdout",
          "text": [
            "1\n",
            "11\n",
            "21\n",
            "1211\n"
          ]
        }
      ]
    },
    {
      "cell_type": "code",
      "source": [
        "def is_palindrome(s):\n",
        "    i = 0\n",
        "    j = len(s) - 1\n",
        "\n",
        "    while i < j:\n",
        "        while not s[i].isalnum() and i < j:\n",
        "            i += 1\n",
        "        while not s[j].isalnum() and i < j:\n",
        "            j -= 1\n",
        "\n",
        "        if s[i].lower() != s[j].lower():\n",
        "            return False\n",
        "        i += 1\n",
        "        j -= 1\n",
        "    return True\n",
        "\n",
        "s = \"Was it a cat I saw?\"\n",
        "print(is_palindrome(s))"
      ],
      "metadata": {
        "colab": {
          "base_uri": "https://localhost:8080/"
        },
        "id": "I9MKQS6Yexq_",
        "outputId": "8ceb9b86-d15c-4e0d-bad5-e10060845575"
      },
      "execution_count": null,
      "outputs": [
        {
          "output_type": "stream",
          "name": "stdout",
          "text": [
            "True\n"
          ]
        }
      ]
    },
    {
      "cell_type": "code",
      "source": [
        "\n",
        "def is_palindrome(s):\n",
        "  low = 0\n",
        "  high = len(s) - 1\n",
        "\n",
        "  while low < high:\n",
        "    if s[low] != s[high]:\n",
        "      return False\n",
        "\n",
        "    low = low + 1\n",
        "    high = high - 1\n",
        "\n",
        "  return True\n",
        "\n",
        "print( is_palindrome(\"malayalam\"))"
      ],
      "metadata": {
        "colab": {
          "base_uri": "https://localhost:8080/"
        },
        "id": "06qAejJ8j_pv",
        "outputId": "f46e98eb-3aa7-4021-ac1d-33d48c046d08"
      },
      "execution_count": null,
      "outputs": [
        {
          "output_type": "stream",
          "name": "stdout",
          "text": [
            "True\n"
          ]
        }
      ]
    },
    {
      "cell_type": "code",
      "source": [
        "# Anagram\n",
        "\n",
        "s1 = \"fairy tales\"\n",
        "s2 = \"rail safety\"\n",
        "\n",
        "s1 = s1.replace(\" \", \"\").lower()\n",
        "s2 = s2.replace(\" \", \"\").lower()\n",
        "\n",
        "# Requires n log n time (since any comparison\n",
        "# based sorting algorithm requires at least\n",
        "# n log n time to sort).\n",
        "print(sorted(s1) == sorted(s2))"
      ],
      "metadata": {
        "colab": {
          "base_uri": "https://localhost:8080/"
        },
        "id": "BBrdUSckkjqF",
        "outputId": "80f76fa5-36e4-4018-af84-793bf2462d91"
      },
      "execution_count": null,
      "outputs": [
        {
          "output_type": "stream",
          "name": "stdout",
          "text": [
            "True\n"
          ]
        }
      ]
    },
    {
      "cell_type": "code",
      "source": [
        "def is_anagram(s1, s2):\n",
        "    ht = dict()\n",
        "\n",
        "    if len(s1) != len(s2):\n",
        "        return False\n",
        "\n",
        "    for i in s1:\n",
        "        if i in ht:\n",
        "            ht[i] += 1\n",
        "        else:\n",
        "            ht[i] = 1\n",
        "    for i in s2:\n",
        "        if i in ht:\n",
        "            ht[i] -= 1\n",
        "        else:\n",
        "            ht[i] = 1\n",
        "\n",
        "    print(ht)\n",
        "    for i in ht:\n",
        "        if ht[i] != 0:\n",
        "            return False\n",
        "    return True\n",
        "\n",
        "s1 = \"fairy tales\"\n",
        "s2 = \"rail safety\"\n",
        "## normalizing the strings\n",
        "s1 = s1.replace(\" \", \"\").lower()\n",
        "s2 = s2.replace(\" \", \"\").lower()\n",
        "\n",
        "print(is_anagram(s1, s2))"
      ],
      "metadata": {
        "id": "YA1OANN7mgw7",
        "colab": {
          "base_uri": "https://localhost:8080/"
        },
        "outputId": "038f246f-7148-4f4e-eb8e-dce31e5e2a52"
      },
      "execution_count": null,
      "outputs": [
        {
          "output_type": "stream",
          "name": "stdout",
          "text": [
            "{'f': 0, 'a': 0, 'i': 0, 'r': 0, 'y': 0, 't': 0, 'l': 0, 'e': 0, 's': 0}\n",
            "True\n"
          ]
        }
      ]
    },
    {
      "cell_type": "code",
      "source": [
        "# Is Palindrome Permutation\n",
        "# Given a string, write a function to check if it is a permutation of a palindrome\n",
        "# Permutation: A rearrangement of letters\n",
        "\n",
        "\n",
        "\n",
        "\n",
        "\n",
        "def is_palin_perm(input_str):\n",
        "    input_str = input_str.replace(\" \", \"\")\n",
        "    input_str = input_str.lower()\n",
        "\n",
        "    d = dict()\n",
        "\n",
        "    for i in input_str:\n",
        "        if i in d:\n",
        "            d[i] += 1\n",
        "        else:\n",
        "            d[i] = 1\n",
        "\n",
        "\n",
        "    print( d )\n",
        "    odd_count = 0\n",
        "    for k, v in d.items():\n",
        "        if v % 2 != 0 and odd_count == 0:\n",
        "            odd_count += 1\n",
        "        elif v % 2 != 0 and odd_count != 0:\n",
        "            return False\n",
        "    return True\n",
        "\n",
        "palin_perm = \"Tact Coa\"\n",
        "not_palin_perm = \"This is not a palindrome permutation\"\n",
        "palin_perm_2 = \"tac act\"\n",
        "\n",
        "print(is_palin_perm(palin_perm))\n",
        "print(is_palin_perm(not_palin_perm))\n",
        "\n",
        "print( is_palin_perm( palin_perm_2 ) )"
      ],
      "metadata": {
        "colab": {
          "base_uri": "https://localhost:8080/"
        },
        "id": "ri3nkqyAkz41",
        "outputId": "97259bcf-87bd-4908-972c-b9950674b23e"
      },
      "execution_count": null,
      "outputs": [
        {
          "output_type": "stream",
          "name": "stdout",
          "text": [
            "{'t': 2, 'a': 2, 'c': 2, 'o': 1}\n",
            "True\n",
            "{'t': 4, 'h': 1, 'i': 4, 's': 2, 'n': 3, 'o': 3, 'a': 3, 'p': 2, 'l': 1, 'd': 1, 'r': 2, 'm': 2, 'e': 2, 'u': 1}\n",
            "False\n",
            "{'t': 2, 'a': 2, 'c': 2}\n",
            "True\n"
          ]
        }
      ]
    },
    {
      "cell_type": "markdown",
      "source": [
        " the idea we get is that a string that has an even length must have all even counts of characters, while strings that have an odd length must have exactly one character with an odd count. An even-length-ed string can’t have an odd number of exactly one character; otherwise, it wouldn’t be even. This is true since an odd number plus any set of even numbers will yield an odd number."
      ],
      "metadata": {
        "id": "V5dNXTfop0De"
      }
    },
    {
      "cell_type": "code",
      "source": [
        "# Check Permutation\n",
        "# A permutation of a string will have the same number of each type of character as that string as it is just a rearrangement of the letter\n",
        "\n",
        "is_permutation_1 = \"google\"\n",
        "is_permutation_2 = \"ooggle\""
      ],
      "metadata": {
        "id": "FLb5tP9NnuvX"
      },
      "execution_count": null,
      "outputs": []
    },
    {
      "cell_type": "code",
      "source": [
        "# Approach 1: Sorting\n",
        "# Time Complexity: O(n log n)\n",
        "# Space Complexity: O(1)\n",
        "def is_perm_1(str_1, str_2):\n",
        "    str_1 = str_1.lower()\n",
        "    str_2 = str_2.lower()\n",
        "\n",
        "    if len(str_1) != len(str_2):\n",
        "        return False\n",
        "\n",
        "    str_1 = ''.join(sorted(str_1))\n",
        "    str_2 = ''.join(sorted(str_2))\n",
        "\n",
        "    n = len(str_1)\n",
        "\n",
        "    for i in range(n):\n",
        "        if str_1[i] != str_2[i]:\n",
        "            return False\n",
        "    return True"
      ],
      "metadata": {
        "id": "GFj683uUqRzM"
      },
      "execution_count": null,
      "outputs": []
    },
    {
      "cell_type": "code",
      "source": [
        "# Approach 2: Hash Table\n",
        "# Time Complexity: O(n)\n",
        "# Space Complexity: O(n)\n",
        "def is_perm_2(str_1, str_2):\n",
        "    str_1 = str_1.lower()\n",
        "    str_2 = str_2.lower()\n",
        "\n",
        "    if len(str_1) != len(str_2):\n",
        "        return False\n",
        "\n",
        "    d = dict()\n",
        "\n",
        "    for i in str_1:\n",
        "        if i in d:\n",
        "            d[i] += 1\n",
        "        else:\n",
        "            d[i] = 1\n",
        "    for i in str_2:\n",
        "        if i in d:\n",
        "            d[i] -= 1\n",
        "        else:\n",
        "            return False\n",
        "\n",
        "    return all(value == 0 for value in d.values())\n"
      ],
      "metadata": {
        "id": "IebQJ3GWqt6L"
      },
      "execution_count": null,
      "outputs": []
    },
    {
      "cell_type": "code",
      "source": [
        "is_permutation_1 = \"google\"\n",
        "is_permutation_2 = \"ooggle\"\n",
        "\n",
        "not_permutation_1 = \"not\"\n",
        "not_permutation_2 = \"top\"\n",
        "\n",
        "\n",
        "print(is_perm_2(is_permutation_1, is_permutation_2))\n",
        "print(is_perm_2(not_permutation_1, not_permutation_2))"
      ],
      "metadata": {
        "colab": {
          "base_uri": "https://localhost:8080/"
        },
        "id": "IEIMa46mq7MX",
        "outputId": "0a112a26-c6d9-48fb-e15c-d95ff5429171"
      },
      "execution_count": null,
      "outputs": [
        {
          "output_type": "stream",
          "name": "stdout",
          "text": [
            "True\n",
            "False\n"
          ]
        }
      ]
    },
    {
      "cell_type": "code",
      "source": [
        "# Is Unique\n",
        "\n",
        "\n",
        "input_str = \"harsu\"\n",
        "\n",
        "if len(input_str) == len(set(input_str)):\n",
        "  print( \"unique\")\n",
        "else:\n",
        "  print(\"Not Unique\")"
      ],
      "metadata": {
        "colab": {
          "base_uri": "https://localhost:8080/"
        },
        "id": "BQMm6o2IrNcX",
        "outputId": "0028a9e7-f0b9-400f-f5ae-c3134e8d24f9"
      },
      "execution_count": null,
      "outputs": [
        {
          "output_type": "stream",
          "name": "stdout",
          "text": [
            "unique\n"
          ]
        }
      ]
    },
    {
      "cell_type": "code",
      "source": [
        "def is_unique(input_str):\n",
        "  return True if len(input_str) == len(set(input_str)) else False"
      ],
      "metadata": {
        "id": "bwo_bXVRryo-"
      },
      "execution_count": null,
      "outputs": []
    },
    {
      "cell_type": "code",
      "source": [
        "def is_unique(input_str):\n",
        "    return len(set(input_str)) == len(input_str)"
      ],
      "metadata": {
        "id": "PtllofQFsKj5"
      },
      "execution_count": null,
      "outputs": []
    },
    {
      "cell_type": "code",
      "source": [
        "a = \"123\"\n",
        "\n",
        "print( int(a))"
      ],
      "metadata": {
        "colab": {
          "base_uri": "https://localhost:8080/"
        },
        "id": "bGgxb5tUsSOp",
        "outputId": "8d9f1663-419b-43b4-b4e2-78b2b2379e60"
      },
      "execution_count": null,
      "outputs": [
        {
          "output_type": "stream",
          "name": "stdout",
          "text": [
            "123\n"
          ]
        }
      ]
    },
    {
      "cell_type": "code",
      "source": [
        "# Swapping 1s\n",
        "\n",
        "def sort_binary_list(lst):\n",
        "    \"\"\"\n",
        "    A function to sort binary list\n",
        "    :param lst: A list containing binary numbers\n",
        "    :return: A sorted binary list\n",
        "    \"\"\"\n",
        "\n",
        "    j = 0\n",
        "\n",
        "    for i in range(len(lst)):\n",
        "        if lst[i] < 1:  # Swapping with jth element if the number is less than 1\n",
        "            lst[i], lst[j] = lst[j], lst[i]  # Swapping\n",
        "            j = j + 1\n",
        "\n",
        "    return lst\n",
        "\n",
        "\n",
        "# Driver to test above code\n",
        "if __name__ == '__main__':\n",
        "\n",
        "    lst = [1, 0, 1, 0, 1, 0, 1, 0]\n",
        "    result = sort_binary_list(lst)\n",
        "\n",
        "    print (result)"
      ],
      "metadata": {
        "id": "itqLaYMDtyfr",
        "colab": {
          "base_uri": "https://localhost:8080/"
        },
        "outputId": "2a6219fe-e610-4d87-fc73-4a53788a4be8"
      },
      "execution_count": null,
      "outputs": [
        {
          "output_type": "stream",
          "name": "stdout",
          "text": [
            "[0, 0, 0, 0, 1, 1, 1, 1]\n"
          ]
        }
      ]
    },
    {
      "cell_type": "code",
      "source": [
        "# Selection sort:\n",
        "\n",
        "A = [ 4,6,1,2,0]\n",
        "\n",
        "for i in range(len(A)):\n",
        "  # find the minimum element in unsorted list\n",
        "  min_index = i\n",
        "  for j in range( i + 1, len(A) ):\n",
        "    if A[min_index] > A[j]:\n",
        "      min_index = j\n",
        "\n",
        "  # swap the minimum element when found\n",
        "  A[i], A[min_index] = A[min_index], A[i]\n",
        "\n",
        "\n",
        "print(A)"
      ],
      "metadata": {
        "id": "242IoniJRM7P",
        "colab": {
          "base_uri": "https://localhost:8080/"
        },
        "outputId": "7f56d213-2c93-47ce-d4b5-d02c830cc538"
      },
      "execution_count": null,
      "outputs": [
        {
          "output_type": "stream",
          "name": "stdout",
          "text": [
            "[0, 1, 2, 4, 6]\n"
          ]
        }
      ]
    },
    {
      "cell_type": "code",
      "source": [
        "# find the maximum product of Two Integers in a List\n",
        "\n",
        "# brute force\n",
        "\n",
        "from decimal import Decimal\n",
        "\n",
        "def findMaxProd( A ):\n",
        "  \"\"\"\n",
        "  Finds the pair having maximum product in a given list\n",
        "  : param A: A list of integers\n",
        "  : return: A pair of integer\n",
        "  \"\"\"\n",
        "\n",
        "  maxProduct = Decimal('-Infinity')\n",
        "  max_i = -1\n",
        "  max_j = -1\n",
        "\n",
        "  for i in A:\n",
        "    for j in A:\n",
        "      if maxProduct < i * j and i is not j:\n",
        "        maxProduct = i * j\n",
        "        max_i = i\n",
        "        max_j = j\n",
        "\n",
        "  return max_i, max_j\n",
        "\n",
        "\n",
        "lst = [1, 3, 5, 2, 6]\n",
        "num1, num2 = findMaxProd(lst)\n",
        "print (num1, num2)\n"
      ],
      "metadata": {
        "colab": {
          "base_uri": "https://localhost:8080/"
        },
        "id": "90hJUxgmkaFv",
        "outputId": "38b13c57-fd3f-4e02-ef42-888703efa6b0"
      },
      "execution_count": null,
      "outputs": [
        {
          "output_type": "stream",
          "name": "stdout",
          "text": [
            "5 6\n"
          ]
        }
      ]
    },
    {
      "cell_type": "code",
      "source": [
        "# find duplicates\n",
        "\n",
        "A = [ 3,2,1,1,0,0]\n",
        "\n",
        "result = [] # A list to store duplicates\n",
        "seen = {} # a dict to store already observed elements\n",
        "dupes = [] # A list to store duplicate elements\n",
        "\n",
        "for x in A:\n",
        "  if x not in seen:\n",
        "    seen[x] = 1\n",
        "  else:\n",
        "    if seen[x] == 1:\n",
        "      dupes.append(x)\n",
        "    seen[x] += 1\n",
        "\n",
        "\n",
        "print( dupes )"
      ],
      "metadata": {
        "colab": {
          "base_uri": "https://localhost:8080/"
        },
        "id": "9Z4M0FQumd83",
        "outputId": "cb0c3830-2d15-4d3f-ee5a-9885e48abdbf"
      },
      "execution_count": null,
      "outputs": [
        {
          "output_type": "stream",
          "name": "stdout",
          "text": [
            "[1, 0]\n"
          ]
        }
      ]
    },
    {
      "cell_type": "code",
      "source": [],
      "metadata": {
        "id": "4neMEawGoD4w"
      },
      "execution_count": null,
      "outputs": []
    }
  ]
}