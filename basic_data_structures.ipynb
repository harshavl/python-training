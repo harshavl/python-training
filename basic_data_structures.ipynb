{
 "cells": [
  {
   "cell_type": "markdown",
   "metadata": {},
   "source": [
    "## Lists"
   ]
  },
  {
   "cell_type": "markdown",
   "metadata": {},
   "source": [
    "● Sortable data<br>\n",
    "● Usually of the same type<br>\n",
    "● You might add to or remove from (usually from the\n",
    "end or in the middle)<br>\n",
    "● Mutable!<br>\n",
    "\n",
    "### Methods<br>\n",
    "append, remove, extend, index, count, sort, reverse.<br>\n",
    "\n",
    "### Performance<br>\n",
    "● Index retrieval - O(1)<br>\n",
    "● Adding to front - O(n)<br>\n",
    "● Adding to end - O(1)<br>\n",
    "● Removing from front - O(n)<br>\n",
    "● Removing from end - O(1)<br>\n",
    "● Looping - O(n)<br>\n",
    "● Searching - O(n)<br>"
   ]
  },
  {
   "cell_type": "markdown",
   "metadata": {},
   "source": [
    "## Sorting<br>"
   ]
  },
  {
   "cell_type": "code",
   "execution_count": 4,
   "metadata": {},
   "outputs": [
    {
     "name": "stdout",
     "output_type": "stream",
     "text": [
      "['george', 'john', 'paul', 'ringo']\n",
      "None\n"
     ]
    }
   ],
   "source": [
    "names = ['paul', 'john', 'george', 'ringo']\n",
    "\n",
    "print( sorted(names) )\n",
    "print( names.sort() ) # doesn't return list! "
   ]
  },
  {
   "cell_type": "code",
   "execution_count": 5,
   "metadata": {},
   "outputs": [
    {
     "name": "stdout",
     "output_type": "stream",
     "text": [
      "Help on built-in function sorted in module builtins:\n",
      "\n",
      "sorted(iterable, /, *, key=None, reverse=False)\n",
      "    Return a new list containing all items from the iterable in ascending order.\n",
      "    \n",
      "    A custom key function can be supplied to customize the sort order, and the\n",
      "    reverse flag can be set to request the result in descending order.\n",
      "\n"
     ]
    }
   ],
   "source": [
    "\n",
    "help( sorted )"
   ]
  },
  {
   "cell_type": "markdown",
   "metadata": {},
   "source": [
    "### Works with other types:"
   ]
  },
  {
   "cell_type": "code",
   "execution_count": 8,
   "metadata": {},
   "outputs": [
    {
     "name": "stdout",
     "output_type": "stream",
     "text": [
      "['a', 'm', 't', 't']\n",
      "['-5', '1', '10', '20', '9']\n"
     ]
    }
   ],
   "source": [
    "print( sorted('matt') ) # returns list\n",
    "\n",
    "print( sorted(('10', '20', '-5', '1', '9')) ) # observe output: its not sorted due to string type"
   ]
  },
  {
   "cell_type": "markdown",
   "metadata": {},
   "source": [
    "### Using Key"
   ]
  },
  {
   "cell_type": "code",
   "execution_count": 7,
   "metadata": {},
   "outputs": [
    {
     "data": {
      "text/plain": [
       "['-5', '1', '9', '10', '20']"
      ]
     },
     "execution_count": 7,
     "metadata": {},
     "output_type": "execute_result"
    }
   ],
   "source": [
    "sorted(('10', '20', '-5', '1', '9'), key=int )"
   ]
  },
  {
   "cell_type": "markdown",
   "metadata": {},
   "source": [
    "### Stable Sorting"
   ]
  },
  {
   "cell_type": "code",
   "execution_count": 9,
   "metadata": {},
   "outputs": [],
   "source": [
    "cards = [ { 'suit': 'h', 'num': 5 } ,\n",
    "        { 'suit': 's', 'num': 2 },\n",
    "         { 'suit': 'd', 'num': 3 },\n",
    "         { 'suit': 'd', 'num': 2 }\n",
    "        ]\n",
    "\n"
   ]
  },
  {
   "cell_type": "code",
   "execution_count": 12,
   "metadata": {},
   "outputs": [],
   "source": [
    "def get_num(card):\n",
    "    return card['num']\n"
   ]
  },
  {
   "cell_type": "code",
   "execution_count": 13,
   "metadata": {},
   "outputs": [
    {
     "data": {
      "text/plain": [
       "[{'suit': 's', 'num': 2},\n",
       " {'suit': 'd', 'num': 2},\n",
       " {'suit': 'd', 'num': 3},\n",
       " {'suit': 'h', 'num': 5}]"
      ]
     },
     "execution_count": 13,
     "metadata": {},
     "output_type": "execute_result"
    }
   ],
   "source": [
    "sorted( cards, key= get_num )"
   ]
  },
  {
   "cell_type": "code",
   "execution_count": 14,
   "metadata": {},
   "outputs": [
    {
     "data": {
      "text/plain": [
       "[{'suit': 'd', 'num': 2},\n",
       " {'suit': 'd', 'num': 3},\n",
       " {'suit': 'h', 'num': 5},\n",
       " {'suit': 's', 'num': 2}]"
      ]
     },
     "execution_count": 14,
     "metadata": {},
     "output_type": "execute_result"
    }
   ],
   "source": [
    "# Sort by suit\n",
    "\n",
    "sorted(cards, key=lambda c: (c['suit'], c['num']))"
   ]
  },
  {
   "cell_type": "code",
   "execution_count": 15,
   "metadata": {},
   "outputs": [
    {
     "data": {
      "text/plain": [
       "[{'suit': 'd', 'num': 3},\n",
       " {'suit': 'd', 'num': 2},\n",
       " {'suit': 'h', 'num': 5},\n",
       " {'suit': 's', 'num': 2}]"
      ]
     },
     "execution_count": 15,
     "metadata": {},
     "output_type": "execute_result"
    }
   ],
   "source": [
    "# Sort by suit, then largest to smallest number\n",
    "\n",
    "sorted(cards, key=lambda c: (c['suit'], -c['num']))"
   ]
  },
  {
   "cell_type": "markdown",
   "metadata": {},
   "source": [
    "# Performance\n",
    "\n",
    "O(n*log(n))\n"
   ]
  },
  {
   "cell_type": "code",
   "execution_count": 16,
   "metadata": {},
   "outputs": [
    {
     "name": "stdout",
     "output_type": "stream",
     "text": [
      "{'suit': 'h', 'num': 5}\n",
      "{'suit': 's', 'num': 2}\n"
     ]
    }
   ],
   "source": [
    "# max and min supports keys\n",
    "\n",
    "print( max(cards, key=get_num) )\n",
    "\n",
    "print( min(cards, key=get_num) )"
   ]
  },
  {
   "cell_type": "markdown",
   "metadata": {},
   "source": [
    "## Tuple"
   ]
  },
  {
   "cell_type": "markdown",
   "metadata": {},
   "source": [
    "### Pros<br>\n",
    "●Simple<br>\n",
    "●Fast<br>\n",
    "●Low memory overhead<br>\n",
    "\n",
    "● Record data<br>\n",
    "● Can have different types<br>\n",
    "● Useful for returning multiple items from a function<br>\n",
    "● Useful for unpacking in assignment or for loops<br>\n",
    "● Hashing sequences<br>\n",
    "● Slots<br>\n",
    "● Immutable!<br>\n",
    "\n",
    "### Cons<br>\n",
    "● Opaque: Need to remember index number;<br>\n",
    "● Non-extensible<br>\n",
    "\n",
    "\n",
    "\n",
    "\n"
   ]
  },
  {
   "cell_type": "markdown",
   "metadata": {},
   "source": [
    "### Usage<br>\n",
    "\n",
    "From warnings.py:\n",
    "\n",
    "`key = (text, category, lineno)`<br>\n",
    "\n",
    "\n",
    "From turtle.py (unpacking):<br>\n",
    "\n",
    "`for item, (poly, fc, oc) in zip(stitem, tshape):`<br>\n",
    "\n",
    "From zipfile.py:<br>\n",
    "\n",
    "`dir, name = os.path.split(pathname)`<br>\n",
    "...<br>\n",
    "`return (fname, archivename)`<br>\n",
    "\n",
    "From pathlib.py:<br>\n",
    "\n",
    "`self._hash = hash(tuple(self._cparts))`\n",
    "\n",
    "From functools.py:<br>\n",
    "\n",
    "`__slots__ = \"func\", \"args\", \"keywords\", \"__dict__\", \"__weakref__\"`\n",
    "\n",
    "With comprehension (using generator expression):<br>\n",
    "\n",
    "`return tuple(obj[i] for i in items)`"
   ]
  },
  {
   "cell_type": "code",
   "execution_count": 25,
   "metadata": {},
   "outputs": [
    {
     "data": {
      "text/plain": [
       "'Fred'"
      ]
     },
     "execution_count": 25,
     "metadata": {},
     "output_type": "execute_result"
    }
   ],
   "source": [
    "person = ('Fred', 45, 'USA')\n",
    "string = ('Fred') # Warning! This is string; Not tuple\n",
    "\n",
    "string"
   ]
  },
  {
   "cell_type": "code",
   "execution_count": 26,
   "metadata": {},
   "outputs": [
    {
     "data": {
      "text/plain": [
       "('Fred',)"
      ]
     },
     "execution_count": 26,
     "metadata": {},
     "output_type": "execute_result"
    }
   ],
   "source": [
    "single_tuple = ('Fred',)\n",
    "single_tuple"
   ]
  },
  {
   "cell_type": "code",
   "execution_count": 30,
   "metadata": {},
   "outputs": [
    {
     "data": {
      "text/plain": [
       "<generator object <genexpr> at 0x000002CE4174ACF0>"
      ]
     },
     "execution_count": 30,
     "metadata": {},
     "output_type": "execute_result"
    }
   ],
   "source": [
    "( i for i in range(5) )"
   ]
  },
  {
   "cell_type": "markdown",
   "metadata": {},
   "source": [
    "## Dictionaries<br>\n",
    "\n",
    "### Pros:<br>\n",
    "\n",
    "● Mapping lookup (key) to value<br>\n",
    "● Keys are usually strings<br>\n",
    "● You can add a key and value<br>\n",
    "● You can also remove a key (with its value)<br>\n",
    "● Mutable!<br>\n",
    "● Since Python 3.6 they remember the order of\n",
    "insertion<br>\n",
    "\n",
    "### Cons:<br>\n",
    "● Simple.<br>\n",
    "● Fast<br>\n",
    "● No dict unpacking<br>\n",
    "● Can add arbitrary keys, including non-strings<br>\n",
    "● Keys can be missing<br>\n",
    "\n",
    "### Performance<br>\n",
    "● Adding - O(1) (unless resize/hash collision)<br>\n",
    "● Removing - O(1) (unless resize/hash collision)<br>\n",
    "● Looping - O(n)<br>\n",
    "● Searching - O(1) (unless hash collision)<br>"
   ]
  },
  {
   "cell_type": "code",
   "execution_count": 31,
   "metadata": {},
   "outputs": [
    {
     "data": {
      "text/plain": [
       "{'Mathew': 'Matthew', 'Richard': 'Ringo', 'Andria': 'Andrea'}"
      ]
     },
     "execution_count": 31,
     "metadata": {},
     "output_type": "execute_result"
    }
   ],
   "source": [
    "bad = ['Mathew', 'Richard', 'Andria']\n",
    "good = ['Matthew', 'Ringo','Andrea']\n",
    "\n",
    "dict(zip(bad, good))"
   ]
  },
  {
   "cell_type": "code",
   "execution_count": 37,
   "metadata": {},
   "outputs": [
    {
     "data": {
      "text/plain": [
       "{'Mathew': 'Matthew', 'Richard': 'Ringo', 'Andria': 'Andrea'}"
      ]
     },
     "execution_count": 37,
     "metadata": {},
     "output_type": "execute_result"
    }
   ],
   "source": [
    "# comprehension\n",
    "\n",
    "typos = {bad[i]:good[i] for i in range(len(bad) ) }\n",
    "typos"
   ]
  },
  {
   "cell_type": "code",
   "execution_count": 36,
   "metadata": {},
   "outputs": [
    {
     "data": {
      "text/plain": [
       "['__class__',\n",
       " '__contains__',\n",
       " '__delattr__',\n",
       " '__delitem__',\n",
       " '__dir__',\n",
       " '__doc__',\n",
       " '__eq__',\n",
       " '__format__',\n",
       " '__ge__',\n",
       " '__getattribute__',\n",
       " '__getitem__',\n",
       " '__gt__',\n",
       " '__hash__',\n",
       " '__init__',\n",
       " '__init_subclass__',\n",
       " '__iter__',\n",
       " '__le__',\n",
       " '__len__',\n",
       " '__lt__',\n",
       " '__ne__',\n",
       " '__new__',\n",
       " '__reduce__',\n",
       " '__reduce_ex__',\n",
       " '__repr__',\n",
       " '__reversed__',\n",
       " '__setattr__',\n",
       " '__setitem__',\n",
       " '__sizeof__',\n",
       " '__str__',\n",
       " '__subclasshook__',\n",
       " 'clear',\n",
       " 'copy',\n",
       " 'fromkeys',\n",
       " 'get',\n",
       " 'items',\n",
       " 'keys',\n",
       " 'pop',\n",
       " 'popitem',\n",
       " 'setdefault',\n",
       " 'update',\n",
       " 'values']"
      ]
     },
     "execution_count": 36,
     "metadata": {},
     "output_type": "execute_result"
    }
   ],
   "source": [
    "\n",
    "# Methods\n",
    "\n",
    "dir( dict )"
   ]
  },
  {
   "cell_type": "code",
   "execution_count": 54,
   "metadata": {},
   "outputs": [
    {
     "data": {
      "text/plain": [
       "{'Matthew': 'Mathew', 'Ringo': 'Richard', 'Andrea': 'Andria'}"
      ]
     },
     "execution_count": 54,
     "metadata": {},
     "output_type": "execute_result"
    }
   ],
   "source": [
    "# reverse \n",
    "\n",
    "{ v : k for k, v in typos.items()}"
   ]
  },
  {
   "cell_type": "markdown",
   "metadata": {},
   "source": [
    "## Dunders"
   ]
  },
  {
   "cell_type": "markdown",
   "metadata": {},
   "source": [
    "In Python everything is an ... object!. <br> Objects respond to\n",
    "protocols. Printing, adding (math in general), looping,\n",
    "containment, truthiness, these are all defined by\n",
    "protocols. These protocols are implemented by dunder\n",
    "methods (double underscore methods also called\n",
    "special or magic methods)."
   ]
  },
  {
   "cell_type": "code",
   "execution_count": 55,
   "metadata": {},
   "outputs": [],
   "source": [
    "# printing\n",
    "\n",
    "class Shout:\n",
    "    def __repr__(self):\n",
    "        return 'Shout()'\n",
    "    \n",
    "    def __str__(self):\n",
    "        return 'shout'.upper()"
   ]
  },
  {
   "cell_type": "code",
   "execution_count": 56,
   "metadata": {},
   "outputs": [
    {
     "data": {
      "text/plain": [
       "Shout()"
      ]
     },
     "execution_count": 56,
     "metadata": {},
     "output_type": "execute_result"
    }
   ],
   "source": [
    "s = Shout()\n",
    "\n",
    "s"
   ]
  },
  {
   "cell_type": "code",
   "execution_count": 57,
   "metadata": {},
   "outputs": [
    {
     "name": "stdout",
     "output_type": "stream",
     "text": [
      "SHOUT\n"
     ]
    }
   ],
   "source": [
    "print(s)"
   ]
  },
  {
   "cell_type": "code",
   "execution_count": 60,
   "metadata": {},
   "outputs": [
    {
     "name": "stdout",
     "output_type": "stream",
     "text": [
      "42\n"
     ]
    }
   ],
   "source": [
    "# Math\n",
    "\n",
    "class Adder:\n",
    "    def __add__(self, other ):\n",
    "        return 10 + other\n",
    "    \n",
    "    \n",
    "a = Adder()\n",
    "\n",
    "print( a + 32 )\n",
    "\n"
   ]
  },
  {
   "cell_type": "code",
   "execution_count": 61,
   "metadata": {},
   "outputs": [
    {
     "name": "stdout",
     "output_type": "stream",
     "text": [
      "1\n",
      "1\n",
      "1\n"
     ]
    }
   ],
   "source": [
    "# Looping\n",
    "\n",
    "class Infinite:\n",
    "    def __iter__(self):\n",
    "        return self\n",
    "    def __next__(self):\n",
    "        return 1\n",
    "    \n",
    "    \n",
    "for i, val in enumerate(Infinite() ):\n",
    "    print(val)\n",
    "    if i == 2:\n",
    "        break"
   ]
  },
  {
   "cell_type": "code",
   "execution_count": 63,
   "metadata": {},
   "outputs": [
    {
     "name": "stdout",
     "output_type": "stream",
     "text": [
      "True\n"
     ]
    }
   ],
   "source": [
    "# Truthiness\n",
    "\n",
    "class Person:\n",
    "    def __init__(self, name):\n",
    "        self.name = name\n",
    "        \n",
    "    def __bool__(self):\n",
    "        return self.name != 'Harsha'\n",
    "    \n",
    "    \n",
    "print( bool(Person('vardhana')))"
   ]
  },
  {
   "cell_type": "code",
   "execution_count": 65,
   "metadata": {},
   "outputs": [
    {
     "name": "stdout",
     "output_type": "stream",
     "text": [
      "Lier\n"
     ]
    }
   ],
   "source": [
    "if Person('Harsha'):\n",
    "    print('Tells Truth')\n",
    "else:\n",
    "    print('Lier')"
   ]
  },
  {
   "cell_type": "code",
   "execution_count": null,
   "metadata": {},
   "outputs": [],
   "source": []
  }
 ],
 "metadata": {
  "kernelspec": {
   "display_name": "Python 3",
   "language": "python",
   "name": "python3"
  },
  "language_info": {
   "codemirror_mode": {
    "name": "ipython",
    "version": 3
   },
   "file_extension": ".py",
   "mimetype": "text/x-python",
   "name": "python",
   "nbconvert_exporter": "python",
   "pygments_lexer": "ipython3",
   "version": "3.8.3"
  }
 },
 "nbformat": 4,
 "nbformat_minor": 4
}
