{
  "nbformat": 4,
  "nbformat_minor": 0,
  "metadata": {
    "colab": {
      "provenance": []
    },
    "kernelspec": {
      "name": "python3",
      "display_name": "Python 3"
    },
    "language_info": {
      "name": "python"
    }
  },
  "cells": [
    {
      "cell_type": "code",
      "execution_count": null,
      "metadata": {
        "colab": {
          "base_uri": "https://localhost:8080/"
        },
        "id": "G5RHOVRtzCNL",
        "outputId": "c21beb97-092f-4f0e-b3d6-e1ace3215911"
      },
      "outputs": [
        {
          "output_type": "stream",
          "name": "stdout",
          "text": [
            "1/ 2\n",
            "1/ 4\n",
            "1/ 6\n",
            "1/ 8\n",
            "1/ 10\n"
          ]
        }
      ],
      "source": [
        "# Write a program that shows the first five terms of the arithmetic sequence\n",
        "\n",
        "\n",
        "for i in range(1,6):\n",
        "  num = i * 2\n",
        "  print( f\"1/ {num}\" )"
      ]
    },
    {
      "cell_type": "code",
      "source": [
        "# generating the first five non-negative even numbers—0, 2, 4, 6, and 8.\n",
        "\n",
        "for i in range(1, 6):\n",
        "  print(i * 2)"
      ],
      "metadata": {
        "colab": {
          "base_uri": "https://localhost:8080/"
        },
        "id": "z6In8VCPFkdX",
        "outputId": "dfb79c0a-5634-4ff6-bff0-de32b7bf447f"
      },
      "execution_count": null,
      "outputs": [
        {
          "output_type": "stream",
          "name": "stdout",
          "text": [
            "2\n",
            "4\n",
            "6\n",
            "8\n",
            "10\n"
          ]
        }
      ]
    },
    {
      "cell_type": "code",
      "source": [
        "# Write a program that shows the first five odd numbers\n",
        "\n",
        "for i in range(1,6):\n",
        "  print( i * 2 - 1)"
      ],
      "metadata": {
        "colab": {
          "base_uri": "https://localhost:8080/"
        },
        "id": "556vXED7GUg1",
        "outputId": "d3c33fcc-b98a-40cf-97cd-c3e87431c2c5"
      },
      "execution_count": null,
      "outputs": [
        {
          "output_type": "stream",
          "name": "stdout",
          "text": [
            "1\n",
            "3\n",
            "5\n",
            "7\n",
            "9\n"
          ]
        }
      ]
    },
    {
      "cell_type": "code",
      "source": [
        "# N & 1 == 1 ( Odd )\n",
        "# check Odd or Even\n",
        "N = 5\n",
        "\n",
        "N & 1 == 1"
      ],
      "metadata": {
        "colab": {
          "base_uri": "https://localhost:8080/"
        },
        "id": "k1IvLfCqGhja",
        "outputId": "fa4bcb60-a57c-40c0-f603-beb689f6081d"
      },
      "execution_count": null,
      "outputs": [
        {
          "output_type": "execute_result",
          "data": {
            "text/plain": [
              "True"
            ]
          },
          "metadata": {},
          "execution_count": 9
        }
      ]
    },
    {
      "cell_type": "code",
      "source": [
        "\n",
        "my_string = \"Hello\"\n",
        "\n",
        "\n",
        "def exclamation(my_string):\n",
        "    my_string = \"!!\" + my_string + \"!!\"\n",
        "    print( my_string)\n",
        "    return my_string\n",
        "\n",
        "\n",
        "exclamation(my_string)\n",
        "print(my_string)\n"
      ],
      "metadata": {
        "colab": {
          "base_uri": "https://localhost:8080/"
        },
        "id": "YpZE3-QnGqBH",
        "outputId": "3d41b1d4-15c1-4081-ac3f-964524bb5be0"
      },
      "execution_count": null,
      "outputs": [
        {
          "output_type": "stream",
          "name": "stdout",
          "text": [
            "!!Hello!!\n",
            "Hello\n"
          ]
        }
      ]
    },
    {
      "cell_type": "code",
      "source": [
        "\n",
        "a , b = 0,1\n",
        "\n",
        "for i in range( 1,7 ):\n",
        "  a,b = a + b, a\n",
        "  print( a )\n",
        "\n"
      ],
      "metadata": {
        "id": "HywbrYakcjzU",
        "colab": {
          "base_uri": "https://localhost:8080/"
        },
        "outputId": "f3f963ec-da71-4f44-cdf3-c83920bce41b"
      },
      "execution_count": null,
      "outputs": [
        {
          "output_type": "stream",
          "name": "stdout",
          "text": [
            "1\n",
            "1\n",
            "2\n",
            "3\n",
            "5\n",
            "8\n"
          ]
        }
      ]
    },
    {
      "cell_type": "code",
      "source": [
        "print( 13 % 3)"
      ],
      "metadata": {
        "colab": {
          "base_uri": "https://localhost:8080/"
        },
        "id": "YWPMoIRq-M4C",
        "outputId": "d996c705-9566-4cee-f0e3-fd2ae4cb3643"
      },
      "execution_count": null,
      "outputs": [
        {
          "output_type": "stream",
          "name": "stdout",
          "text": [
            "1\n"
          ]
        }
      ]
    },
    {
      "cell_type": "code",
      "source": [
        "q , r = divmod(13 , 4)"
      ],
      "metadata": {
        "id": "HyYa9cUh_Rw9"
      },
      "execution_count": null,
      "outputs": []
    },
    {
      "cell_type": "code",
      "source": [
        "print( q, r )"
      ],
      "metadata": {
        "colab": {
          "base_uri": "https://localhost:8080/"
        },
        "id": "MBdxxu0Q_axi",
        "outputId": "c02c263a-1539-4f66-c7e9-8ca83d58c185"
      },
      "execution_count": null,
      "outputs": [
        {
          "output_type": "stream",
          "name": "stdout",
          "text": [
            "3 1\n"
          ]
        }
      ]
    },
    {
      "cell_type": "code",
      "source": [
        "list( reversed( [ 1,2,3,4]) )"
      ],
      "metadata": {
        "colab": {
          "base_uri": "https://localhost:8080/"
        },
        "id": "2tmIqmA5_oQJ",
        "outputId": "4c8d94eb-5cfa-44d9-bf8f-f6bb51b66ba2"
      },
      "execution_count": null,
      "outputs": [
        {
          "output_type": "execute_result",
          "data": {
            "text/plain": [
              "[4, 3, 2, 1]"
            ]
          },
          "metadata": {},
          "execution_count": 15
        }
      ]
    },
    {
      "cell_type": "code",
      "source": [
        "nums = [ 2,4,1,0]\n",
        "\n",
        "sorted( nums )"
      ],
      "metadata": {
        "colab": {
          "base_uri": "https://localhost:8080/"
        },
        "id": "FEQzSX0F_1_E",
        "outputId": "4846f979-2031-4e9d-861c-73e8f6d18162"
      },
      "execution_count": null,
      "outputs": [
        {
          "output_type": "execute_result",
          "data": {
            "text/plain": [
              "[0, 1, 2, 4]"
            ]
          },
          "metadata": {},
          "execution_count": 16
        }
      ]
    },
    {
      "cell_type": "code",
      "source": [
        "f = [ 4,3,1,2,3]\n",
        "\n",
        "f.sort()\n",
        "print( f )\n",
        "\n",
        "f.reverse()\n",
        "print( f )"
      ],
      "metadata": {
        "colab": {
          "base_uri": "https://localhost:8080/"
        },
        "id": "N5NtEuGjARRo",
        "outputId": "52b64bde-194e-483d-a38d-d4337f6398d0"
      },
      "execution_count": null,
      "outputs": [
        {
          "output_type": "stream",
          "name": "stdout",
          "text": [
            "[1, 2, 3, 3, 4]\n",
            "[4, 3, 3, 2, 1]\n"
          ]
        }
      ]
    },
    {
      "cell_type": "code",
      "source": [
        "# Anagram\n",
        "\n",
        "\n",
        "def anagram( str1, str2 ):\n",
        "\n",
        "  num = 0\n",
        "  str1 = str1.lower()\n",
        "  str2 = str2.lower()\n",
        "\n",
        "  if sorted(str1) == sorted(str2):\n",
        "    return True\n",
        "  else:\n",
        "    return False\n",
        "\n",
        "\n",
        "print( anagram( \"silent\", \"listen\"))"
      ],
      "metadata": {
        "colab": {
          "base_uri": "https://localhost:8080/"
        },
        "id": "NDGybh50A62J",
        "outputId": "0e77ce29-7f81-4eed-f4d8-f6a0994e87d2"
      },
      "execution_count": null,
      "outputs": [
        {
          "output_type": "stream",
          "name": "stdout",
          "text": [
            "True\n"
          ]
        }
      ]
    },
    {
      "cell_type": "code",
      "source": [
        "# reverse string\n",
        "\n",
        "p = \"harsha\"\n",
        "\n",
        "q = '' # store empty strings\n",
        "i = 1\n",
        "\n",
        "while i <= len(p):\n",
        "  q = q + p[-i]\n",
        "  i = i + 1\n",
        "\n",
        "print( q )"
      ],
      "metadata": {
        "colab": {
          "base_uri": "https://localhost:8080/"
        },
        "id": "PGyZNR5sCBBh",
        "outputId": "fcb3c48c-e5e9-4aea-8bd5-15e4d7ecdd36"
      },
      "execution_count": null,
      "outputs": [
        {
          "output_type": "stream",
          "name": "stdout",
          "text": [
            "ahsrah\n"
          ]
        }
      ]
    },
    {
      "cell_type": "code",
      "source": [
        "# balance Brackets:\n",
        "\n",
        "brackets = \"[[]]\"\n",
        "\n",
        "count = 0\n",
        "for i in brackets:\n",
        "  if i == '[':\n",
        "    count = count + 1\n",
        "  elif i in ']':\n",
        "    count = count - 1\n",
        "\n",
        "print( count )"
      ],
      "metadata": {
        "colab": {
          "base_uri": "https://localhost:8080/"
        },
        "id": "7FupfjnLCckl",
        "outputId": "e7d10060-33c3-4136-8175-1d8fb5bbc7f2"
      },
      "execution_count": null,
      "outputs": [
        {
          "output_type": "stream",
          "name": "stdout",
          "text": [
            "0\n"
          ]
        }
      ]
    },
    {
      "cell_type": "code",
      "source": [
        "# sum is zero\n",
        "\n",
        "def check_sum(num_list):\n",
        "  low = 0\n",
        "  high = len(num_list) - 1\n",
        "\n",
        "  while low < high:\n",
        "    output = num_list[low] + num_list[high]\n",
        "\n",
        "    if output == 0:\n",
        "      return True\n",
        "\n",
        "    low = low + 1\n",
        "    high = high - 1\n",
        "\n",
        "\n",
        "\n",
        "print( check_sum([1,4,5,-1]))"
      ],
      "metadata": {
        "colab": {
          "base_uri": "https://localhost:8080/"
        },
        "id": "SwNUi7MtHBk3",
        "outputId": "2392097e-75e3-4908-a63c-2c1a8dce2673"
      },
      "execution_count": null,
      "outputs": [
        {
          "output_type": "stream",
          "name": "stdout",
          "text": [
            "True\n"
          ]
        }
      ]
    },
    {
      "cell_type": "code",
      "source": [],
      "metadata": {
        "id": "pHbpBORSJBCC"
      },
      "execution_count": null,
      "outputs": []
    },
    {
      "cell_type": "markdown",
      "source": [
        "## OOPS"
      ],
      "metadata": {
        "id": "oMYpNXNoZfo9"
      }
    },
    {
      "cell_type": "code",
      "source": [
        "class MyClass:\n",
        "  pass\n",
        "\n",
        "\n",
        "obj = MyClass()\n",
        "print(obj)"
      ],
      "metadata": {
        "colab": {
          "base_uri": "https://localhost:8080/"
        },
        "id": "GqW5um0vZhs5",
        "outputId": "e966669f-0d57-4f7b-c996-27d6c68b432a"
      },
      "execution_count": null,
      "outputs": [
        {
          "output_type": "stream",
          "name": "stdout",
          "text": [
            "<__main__.MyClass object at 0x7b574bcc3d90>\n"
          ]
        }
      ]
    },
    {
      "cell_type": "code",
      "source": [
        "# Implementing Properties in a Class\n",
        "\n",
        "\n",
        "# creating the properties inside the class\n",
        "\n",
        "class Employee:\n",
        "  ID = 100\n",
        "  salary = 2500\n",
        "  department = \"Consultant\"\n",
        "\n",
        "\n",
        "# creating an object of the EMployee objects\n",
        "Harsha = Employee()\n",
        "\n",
        "print(\"ID\", Harsha.ID)"
      ],
      "metadata": {
        "colab": {
          "base_uri": "https://localhost:8080/"
        },
        "id": "ap0LfPk6ZrYj",
        "outputId": "b8883661-d63e-4cfe-d815-bd224a879157"
      },
      "execution_count": null,
      "outputs": [
        {
          "output_type": "stream",
          "name": "stdout",
          "text": [
            "ID 100\n"
          ]
        }
      ]
    },
    {
      "cell_type": "code",
      "source": [
        "# creating the propertoes outside the class\n",
        "\n",
        "\n",
        "class Employee:\n",
        "  ID = None\n",
        "  salary = None\n",
        "  department = None\n",
        "\n",
        "\n",
        "# creating an object\n",
        "Steve = Employee()\n",
        "Steve.ID = 1001\n",
        "Steve.salary = 25000\n",
        "Steve.department = \"Consultant\"\n",
        "\n",
        "# creating a new Object Title\n",
        "Steve.title = \"Manager\"\n",
        "\n",
        "print(f\"ID:{Steve.ID}, Salary:{Steve.salary} and Title:{Steve.title}\")\n",
        "\n"
      ],
      "metadata": {
        "colab": {
          "base_uri": "https://localhost:8080/"
        },
        "id": "WP-ZsHx3aYHU",
        "outputId": "bd0df3cb-f534-497a-e0e1-f28be9c8dd02"
      },
      "execution_count": null,
      "outputs": [
        {
          "output_type": "stream",
          "name": "stdout",
          "text": [
            "ID:1001, Salary:25000 and Title:Manager\n"
          ]
        }
      ]
    },
    {
      "cell_type": "code",
      "source": [
        "# Initializing Objects\n",
        "\n",
        "# The initializer is a special method because it does not have a return type.\n",
        "# The first parameter of __init__ is self, which is a way to refer to the object being initialized.\n",
        "\n",
        "\n",
        "class Employee:\n",
        "  def __init__( self, ID, salary, department ):\n",
        "    self.ID = ID\n",
        "    self.salary = salary\n",
        "    self.department = department\n",
        "\n",
        "\n",
        "# # creating an object of the employee class with default parameters\n",
        "Harsha = Employee( 100, 25000, \"Embedded Systems\")\n",
        "\n",
        "print( Harsha.department )"
      ],
      "metadata": {
        "colab": {
          "base_uri": "https://localhost:8080/"
        },
        "id": "ilBd58vGbSs1",
        "outputId": "9fe629da-786d-4294-8883-20cc9e28f624"
      },
      "execution_count": null,
      "outputs": [
        {
          "output_type": "stream",
          "name": "stdout",
          "text": [
            "Embedded Systems\n"
          ]
        }
      ]
    },
    {
      "cell_type": "code",
      "source": [
        "# default initializer\n",
        "\n",
        "\n",
        "class Employee:\n",
        "  def __init__( self, ID=None ,salary=0, department=None ):\n",
        "    self.ID = ID\n",
        "    self.salary = salary\n",
        "    self.department = department\n",
        "\n",
        "\n",
        "# # creating an object of the employee class with default parameters\n",
        "Harsha = Employee( 100, 25000, \"Embedded Systems\")\n",
        "Vardhana = Employee()\n",
        "\n",
        "print( Vardhana.department )\n"
      ],
      "metadata": {
        "colab": {
          "base_uri": "https://localhost:8080/"
        },
        "id": "VatH3c26cy_o",
        "outputId": "8baef310-dba5-4ba7-a791-cb7b1a56bbf6"
      },
      "execution_count": null,
      "outputs": [
        {
          "output_type": "stream",
          "name": "stdout",
          "text": [
            "None\n"
          ]
        }
      ]
    },
    {
      "cell_type": "code",
      "source": [
        "# Class and Instance Variables\n",
        "# The class variables are shared by all instances or objects of the classes. A change in the class variable will change the value of that property in all the objects of the class.\n",
        "# The instance variables are unique to each instance or object of the class. A change in the instance variable will change the value of the property in that specific object only.\n",
        "\n",
        "\n",
        "\n",
        "\n",
        "class Player:\n",
        "  teamName = 'Liverpool'  # class variable\n",
        "\n",
        "  def __init__( self, name ):\n",
        "    self.name = name    # Instance variable\n",
        "\n",
        "p1 = Player(\"Harsha\")\n",
        "p2 = Player(\"Vardhana\")\n",
        "\n",
        "print(\"Name:\", p1.name)\n",
        "print(\"Team Name:\", p1.teamName)\n",
        "print(\"Name:\", p2.name)\n",
        "print(\"Team Name:\", p2.teamName)"
      ],
      "metadata": {
        "colab": {
          "base_uri": "https://localhost:8080/"
        },
        "id": "u13DiP7XdHLH",
        "outputId": "748b2ad6-ece9-4387-bc66-93898e59b3cf"
      },
      "execution_count": null,
      "outputs": [
        {
          "output_type": "stream",
          "name": "stdout",
          "text": [
            "Name: Harsha\n",
            "Team Name: Liverpool\n",
            "Name: Vardhana\n",
            "Team Name: Liverpool\n"
          ]
        }
      ]
    },
    {
      "cell_type": "code",
      "source": [
        "# Wrong use of class variables\n",
        "\n",
        "class Player:\n",
        "    formerTeams = []  # class variables\n",
        "    teamName = 'Liverpool'\n",
        "\n",
        "    def __init__(self, name):\n",
        "        self.name = name  # creating instance variables\n"
      ],
      "metadata": {
        "id": "XG6AfSigeEm8"
      },
      "execution_count": null,
      "outputs": []
    },
    {
      "cell_type": "code",
      "source": [
        "p1 = Player('Mark')\n",
        "p2 = Player('Steve')\n",
        "\n",
        "p1 = Player('Mark')\n",
        "p1.formerTeams.append('Barcelona') # wrong use of class variable\n",
        "p2 = Player('Steve')\n",
        "p2.formerTeams.append('Chelsea') # wrong use of class variable\n",
        "\n",
        "print(\"Name:\", p1.name)\n",
        "print(\"Team Name:\", p1.teamName)\n",
        "print(p1.formerTeams)\n",
        "print(\"Name:\", p2.name)\n",
        "print(\"Team Name:\", p2.teamName)\n",
        "print(p2.formerTeams)"
      ],
      "metadata": {
        "colab": {
          "base_uri": "https://localhost:8080/"
        },
        "id": "SDv4fHS2eR2a",
        "outputId": "32e20bba-fd3f-4ee9-9758-6d340907024c"
      },
      "execution_count": null,
      "outputs": [
        {
          "output_type": "stream",
          "name": "stdout",
          "text": [
            "Name: Mark\n",
            "Team Name: Liverpool\n",
            "['Barcelona', 'Chelsea']\n",
            "Name: Steve\n",
            "Team Name: Liverpool\n",
            "['Barcelona', 'Chelsea']\n"
          ]
        }
      ]
    },
    {
      "cell_type": "markdown",
      "source": [
        "### while the instance variable name is unique for each and every object of the Player class, the class variable, formerTeams, can be accessed by any object of the class and is updated throughout. We are storing all players currently playing for the same team, but each player in the team may have played for different former teams."
      ],
      "metadata": {
        "id": "_KVnqOaYev0F"
      }
    },
    {
      "cell_type": "code",
      "source": [
        "# Correct usage\n",
        "\n",
        "class Player:\n",
        "  teamName = 'Liverpool'\n",
        "\n",
        "  def __init__( self, name ):\n",
        "    self.name = name\n",
        "    self.formerTeams = []\n",
        "\n",
        "\n",
        "p1 = Player('Mark')\n",
        "p1.formerTeams.append('Barcelona')\n",
        "p2 = Player('Steve')\n",
        "p2.formerTeams.append('Chelsea')\n",
        "\n",
        "print(\"Name:\", p1.name)\n",
        "print(\"Team Name:\", p1.teamName)\n",
        "print(p1.formerTeams)\n",
        "\n",
        "print(\"Name:\", p2.name)\n",
        "print(\"Team Name:\", p2.teamName)\n",
        "print(p2.formerTeams)\n"
      ],
      "metadata": {
        "colab": {
          "base_uri": "https://localhost:8080/"
        },
        "id": "cvFsTpfRee0R",
        "outputId": "ea39aeae-e974-420c-f8f8-70f8693294e5"
      },
      "execution_count": null,
      "outputs": [
        {
          "output_type": "stream",
          "name": "stdout",
          "text": [
            "Name: Mark\n",
            "Team Name: Liverpool\n",
            "['Barcelona']\n",
            "Name: Steve\n",
            "Team Name: Liverpool\n",
            "['Chelsea']\n"
          ]
        }
      ]
    },
    {
      "cell_type": "code",
      "source": [
        "# Using class variables smartly\n",
        "\n",
        "# we have defined a class variable teamMembers, which is a list that will be shared by all the objects of the class Player.\n",
        "\n",
        "class Player:\n",
        "    teamName = 'Liverpool'      # class variables\n",
        "    teamMembers = []\n",
        "\n",
        "    def __init__(self, name):\n",
        "        self.name = name        # creating instance variables\n",
        "        self.formerTeams = []\n",
        "        self.teamMembers.append(self.name)\n",
        "\n",
        "\n",
        "p1 = Player('Mark')\n",
        "p2 = Player('Steve')\n",
        "\n",
        "print(\"Name:\", p1.name)\n",
        "print(\"Team Members:\")\n",
        "print(p1.teamMembers)\n",
        "print(\"\")\n",
        "print(\"Name:\", p2.name)\n",
        "print(\"Team Members:\")\n",
        "print(p2.teamMembers)\n"
      ],
      "metadata": {
        "colab": {
          "base_uri": "https://localhost:8080/"
        },
        "id": "ckbnvvSBfRx9",
        "outputId": "0d19df96-89c4-4a93-f46b-09bb86d10ff9"
      },
      "execution_count": null,
      "outputs": [
        {
          "output_type": "stream",
          "name": "stdout",
          "text": [
            "Name: Mark\n",
            "Team Members:\n",
            "['Mark', 'Steve']\n",
            "\n",
            "Name: Steve\n",
            "Team Members:\n",
            "['Mark', 'Steve']\n"
          ]
        }
      ]
    },
    {
      "cell_type": "code",
      "source": [
        "# Implementing Methods in a Class\n"
      ],
      "metadata": {
        "id": "otaSUe6RgFCU"
      },
      "execution_count": null,
      "outputs": []
    },
    {
      "cell_type": "markdown",
      "source": [
        "There are three types of methods in Python:\n",
        "\n",
        "instance methods or methods\n",
        "\n",
        "class methods\n",
        "\n",
        "static methods\n",
        "\n",
        "The purpose of methods\n",
        "Methods act as an interface between a program and the properties of a class in the program.\n",
        "\n",
        "These methods can either alter the content of the properties or use their values to perform a particular computation.\n",
        "\n",
        "Method parameters: In Python, the first parameter of the method should ALWAYS be self.\n",
        "\n",
        "One of the major differences between functions and methods in Python is the first argument in the method definition. Conventionally, this is named self. The user can use different names as well, but self is used by almost all the developers working in Python.\n",
        "\n",
        "\n",
        "\n"
      ],
      "metadata": {
        "id": "Atc0o6aTi6cj"
      }
    },
    {
      "cell_type": "code",
      "source": [
        "class Employee:\n",
        "    # defining the initializer\n",
        "    def __init__(self, ID=None, salary=None, department=None):\n",
        "        self.ID = ID\n",
        "        self.salary = salary\n",
        "        self.department = department\n",
        "\n",
        "    def tax(self):\n",
        "        return (self.salary * 0.2)\n",
        "\n",
        "    def salaryPerDay(self):\n",
        "        return (self.salary / 30)\n",
        "\n",
        "\n",
        "# initializing an object of the Employee class\n",
        "Steve = Employee(3789, 2500, \"Human Resources\")\n",
        "\n",
        "# Printing properties of Steve\n",
        "print(\"ID =\", Steve.ID)\n",
        "print(\"Salary\", Steve.salary)\n",
        "print(\"Department:\", Steve.department)\n",
        "print(\"Tax paid by Steve:\", Steve.tax())\n",
        "print(\"Salary per day of Steve\", Steve.salaryPerDay())\n"
      ],
      "metadata": {
        "colab": {
          "base_uri": "https://localhost:8080/"
        },
        "id": "Kaab4vP6jiBT",
        "outputId": "f9535af3-dfef-45d6-a24a-1a0d6ecdd046"
      },
      "execution_count": null,
      "outputs": [
        {
          "output_type": "stream",
          "name": "stdout",
          "text": [
            "ID = 3789\n",
            "Salary 2500\n",
            "Department: Human Resources\n",
            "Tax paid by Steve: 500.0\n",
            "Salary per day of Steve 83.33333333333333\n"
          ]
        }
      ]
    },
    {
      "cell_type": "code",
      "source": [
        "# Method overloading\n",
        "# Overloading refers to making a method perform different operations based on the nature of its arguments.\n",
        "# Unlike in other programming languages, methods cannot be explicitly overloaded in Python but can be implicitly overloaded.\n",
        "\n",
        "class Employee:\n",
        "    # defining the properties and assigning them None to the\n",
        "    def __init__(self, ID=None, salary=None, department=None):\n",
        "        self.ID = ID\n",
        "        self.salary = salary\n",
        "        self.department = department\n",
        "\n",
        "    # method overloading\n",
        "    def demo(self, a, b, c, d=5, e=None):\n",
        "        print(\"a =\", a)\n",
        "        print(\"b =\", b)\n",
        "        print(\"c =\", c)\n",
        "        print(\"d =\", d)\n",
        "        print(\"e =\", e)\n",
        "\n",
        "    def tax(self, title=None):\n",
        "        return (self.salary * 0.2)\n",
        "\n",
        "    def salaryPerDay(self):\n",
        "        return (self.salary / 30)\n",
        "\n"
      ],
      "metadata": {
        "id": "yW6nHvmEjjOk"
      },
      "execution_count": null,
      "outputs": []
    },
    {
      "cell_type": "code",
      "source": [
        "# creating an object of the Employee class\n",
        "\n",
        "Steve = Employee()\n",
        "\n",
        "print(\"Demo 1\")\n",
        "Steve.demo(1, 2, 3)\n",
        "print(\"\\n\")\n",
        "\n",
        "print(\"Demo 2\")\n",
        "Steve.demo(1, 2, 3, 4)\n",
        "print(\"\\n\")\n",
        "\n",
        "print(\"Demo 3\")\n",
        "Steve.demo(1, 2, 3, 4, 5)\n"
      ],
      "metadata": {
        "colab": {
          "base_uri": "https://localhost:8080/"
        },
        "id": "mJa7n_FbkH31",
        "outputId": "9ba31fb3-2c62-4dff-cda7-bb73712e0e7c"
      },
      "execution_count": null,
      "outputs": [
        {
          "output_type": "stream",
          "name": "stdout",
          "text": [
            "Demo 1\n",
            "a = 1\n",
            "b = 2\n",
            "c = 3\n",
            "d = 5\n",
            "e = None\n",
            "\n",
            "\n",
            "Demo 2\n",
            "a = 1\n",
            "b = 2\n",
            "c = 3\n",
            "d = 4\n",
            "e = None\n",
            "\n",
            "\n",
            "Demo 3\n",
            "a = 1\n",
            "b = 2\n",
            "c = 3\n",
            "d = 4\n",
            "e = 5\n"
          ]
        }
      ]
    },
    {
      "cell_type": "markdown",
      "source": [
        "In the code above, we see the same method behaving differently when encountering different types of inputs.\n",
        "\n",
        "If we redefine a method several times and give it different arguments, Python uses the latest method definition for its implementation.\n",
        "\n",
        "\n",
        "### Advantages of method overloading\n",
        "One might wonder that we could simply create new methods to perform different jobs rather than overloading the same method. However, under the hood, overloading saves us memory in the system. Creating new methods is costlier compared to overloading a single one.\n",
        "\n",
        "Since they are memory-efficient, overloaded methods are compiled faster compared to different methods, especially if the list of methods is long.\n",
        "\n",
        "An obvious benefit is that the code becomes simple and clean. We don’t have to keep track of different methods.\n",
        "\n",
        "Polymorphism is a very important concept in object-oriented programming. Method overloading plays a vital role in its implementation.\n",
        "\n",
        "\n",
        "# Class Methods and Static Methods\n",
        "In Python classes, we have three types of methods: instance methods, class methods, and static methods\n",
        "\n",
        "**Class methods** work with class variables and are accessible using the class name rather than its object. Since all class objects share the class variables, class methods are used to access and modify class variables.\n",
        "we use the decorator `@classmethod`. `cls` is used to refer to the class just like self is used to refer to the object of the class.\n",
        "\n",
        "\n",
        "**Note**: Just like instance methods, all class methods have at least one argument, cls."
      ],
      "metadata": {
        "id": "vcOX7wLckgsr"
      }
    },
    {
      "cell_type": "code",
      "source": [
        "class MyClass:\n",
        "    classVariable = 'educative'\n",
        "\n",
        "    @classmethod\n",
        "    def demo(cls):\n",
        "        return cls.classVariable"
      ],
      "metadata": {
        "id": "e0INvmEpkViZ"
      },
      "execution_count": null,
      "outputs": []
    },
    {
      "cell_type": "code",
      "source": [
        "\n",
        "class Player:\n",
        "  teamName = 'Liverpool'\n",
        "\n",
        "  def __init__( self, name ):\n",
        "    self.name = name\n",
        "\n",
        "  @classmethod\n",
        "  def getTeamname(cls):\n",
        "    return cls.teamName\n",
        "\n",
        "\n",
        "print( Player.getTeamname() )"
      ],
      "metadata": {
        "colab": {
          "base_uri": "https://localhost:8080/"
        },
        "id": "LEPSlWZVlO76",
        "outputId": "6e4f08a9-ade5-4b23-f618-aa90cb18b9ce"
      },
      "execution_count": null,
      "outputs": [
        {
          "output_type": "stream",
          "name": "stdout",
          "text": [
            "Liverpool\n"
          ]
        }
      ]
    },
    {
      "cell_type": "markdown",
      "source": [
        "## Static methods\n",
        "Static methods are methods that are usually limited to class only and not their objects. They have no direct relation to class variables or instance variables. They are used as utility functions inside the class or when we do not want the inherited classes to modify a method definition.\n",
        "\n",
        "Static methods can be accessed using the class name or the object name.\n",
        "\n",
        "To declare a method as a static method, we use the decorator @staticmethod. It does not use a reference to the object or class, so we do not have to use self or cls. We can pass as many arguments as we want and use this method to perform any function without interfering with the instance or class variables.\n"
      ],
      "metadata": {
        "id": "ge8_WNyCmAOj"
      }
    },
    {
      "cell_type": "code",
      "source": [
        "class MyClass:\n",
        "\n",
        "    @staticmethod\n",
        "    def demo():\n",
        "      print(\"I am static method\")\n"
      ],
      "metadata": {
        "id": "vudNirFSlyP-"
      },
      "execution_count": null,
      "outputs": []
    },
    {
      "cell_type": "code",
      "source": [
        "\n",
        "class Player:\n",
        "  teamName = \"Liverpool\"\n",
        "\n",
        "  def __init__( self, name ):\n",
        "    self.name = name\n",
        "\n",
        "  @staticmethod\n",
        "  def demo():\n",
        "    print(\"I am a static method\")\n",
        "\n",
        "p1 = Player('lol')\n",
        "p1.demo()\n",
        "\n",
        "Player.demo()"
      ],
      "metadata": {
        "colab": {
          "base_uri": "https://localhost:8080/"
        },
        "id": "u9enO7o-mNLJ",
        "outputId": "f376cf24-d057-4ba3-ad7f-47834002d92b"
      },
      "execution_count": null,
      "outputs": [
        {
          "output_type": "stream",
          "name": "stdout",
          "text": [
            "I am a static method\n",
            "I am a static method\n"
          ]
        }
      ]
    },
    {
      "cell_type": "markdown",
      "source": [
        "Static methods do not know anything about the state of the class, i.e., they cannot modify class attributes. The purpose of a static method is to use its parameters and produce a useful result.\n",
        "\n",
        "\n",
        "Suppose that there is a class, BodyInfo, containing information about the physical attributes of a person. We can make a static method for calculating the BMI of any given weight and height:"
      ],
      "metadata": {
        "id": "xipt4p3Lm1hX"
      }
    },
    {
      "cell_type": "code",
      "source": [
        "class BodyInfo:\n",
        "\n",
        "    @staticmethod\n",
        "    def bmi(weight, height):\n",
        "        return weight / (height**2)\n",
        "\n",
        "\n",
        "weight = 75\n",
        "height = 1.8\n",
        "print(BodyInfo.bmi(weight, height))\n"
      ],
      "metadata": {
        "colab": {
          "base_uri": "https://localhost:8080/"
        },
        "id": "r39SV60Tmssd",
        "outputId": "0840c88f-074c-4357-8b07-b007b88271b7"
      },
      "execution_count": null,
      "outputs": [
        {
          "output_type": "stream",
          "name": "stdout",
          "text": [
            "23.148148148148145\n"
          ]
        }
      ]
    },
    {
      "cell_type": "markdown",
      "source": [
        "## Access Modifiers\n",
        "\n",
        "In Python, we can impose access restrictions on different data members and member functions. The restrictions are specified through **access modifiers**.\n",
        "\n",
        "here are two types of access modifiers in Python.\n",
        "\n",
        "Public attributes are those that can be accessed inside the class and outside the class.\n",
        "\n"
      ],
      "metadata": {
        "id": "zhwKKScEnPyP"
      }
    },
    {
      "cell_type": "code",
      "source": [
        "class Employee:\n",
        "    def __init__(self, ID, salary):\n",
        "        # all properties are public\n",
        "        self.ID = ID\n",
        "        self.salary = salary\n",
        "\n",
        "    def displayID(self):\n",
        "        print(\"ID:\", self.ID)\n",
        "\n",
        "\n",
        "Steve = Employee(3789, 2500)\n",
        "Steve.displayID()\n",
        "print(Steve.salary)\n"
      ],
      "metadata": {
        "colab": {
          "base_uri": "https://localhost:8080/"
        },
        "id": "RW-y-jeDmz0p",
        "outputId": "b585b8f5-53b7-415b-e62a-033e12aa46c7"
      },
      "execution_count": null,
      "outputs": [
        {
          "output_type": "stream",
          "name": "stdout",
          "text": [
            "ID: 3789\n",
            "2500\n"
          ]
        }
      ]
    },
    {
      "cell_type": "markdown",
      "source": [
        "**Private attributes** cannot be accessed directly from outside the class but can be accessed from inside the class.\n",
        "\n",
        "The aim is to keep it hidden from the users and other classes. Unlike in many different languages, it is not a widespread practice in Python to keep the data members private since we do not want to create hindrances for the users. We can make members private using the double underscore __ prefix.\n",
        "\n",
        "\n",
        "Trying to access private attributes in the main code will generate an error\n"
      ],
      "metadata": {
        "id": "8NeHlLYenr_T"
      }
    },
    {
      "cell_type": "code",
      "source": [
        "class Employee:\n",
        "    def __init__(self, ID, salary):\n",
        "        self.ID = ID\n",
        "        self.__salary = salary  # salary is a private property\n",
        "\n",
        "\n",
        "Steve = Employee(3789, 2500)\n",
        "print(\"ID:\", Steve.ID)\n",
        "print(\"Salary:\", Steve.__salary)  # this will cause an error\n"
      ],
      "metadata": {
        "colab": {
          "base_uri": "https://localhost:8080/",
          "height": 202
        },
        "id": "ezVCLGmLnmgg",
        "outputId": "29c17ee4-a8fd-44f9-e6ca-ee337f0fb2c8"
      },
      "execution_count": null,
      "outputs": [
        {
          "output_type": "stream",
          "name": "stdout",
          "text": [
            "ID: 3789\n"
          ]
        },
        {
          "output_type": "error",
          "ename": "AttributeError",
          "evalue": "'Employee' object has no attribute '__salary'",
          "traceback": [
            "\u001b[0;31m---------------------------------------------------------------------------\u001b[0m",
            "\u001b[0;31mAttributeError\u001b[0m                            Traceback (most recent call last)",
            "\u001b[0;32m<ipython-input-30-d6d480d32dbd>\u001b[0m in \u001b[0;36m<cell line: 9>\u001b[0;34m()\u001b[0m\n\u001b[1;32m      7\u001b[0m \u001b[0mSteve\u001b[0m \u001b[0;34m=\u001b[0m \u001b[0mEmployee\u001b[0m\u001b[0;34m(\u001b[0m\u001b[0;36m3789\u001b[0m\u001b[0;34m,\u001b[0m \u001b[0;36m2500\u001b[0m\u001b[0;34m)\u001b[0m\u001b[0;34m\u001b[0m\u001b[0;34m\u001b[0m\u001b[0m\n\u001b[1;32m      8\u001b[0m \u001b[0mprint\u001b[0m\u001b[0;34m(\u001b[0m\u001b[0;34m\"ID:\"\u001b[0m\u001b[0;34m,\u001b[0m \u001b[0mSteve\u001b[0m\u001b[0;34m.\u001b[0m\u001b[0mID\u001b[0m\u001b[0;34m)\u001b[0m\u001b[0;34m\u001b[0m\u001b[0;34m\u001b[0m\u001b[0m\n\u001b[0;32m----> 9\u001b[0;31m \u001b[0mprint\u001b[0m\u001b[0;34m(\u001b[0m\u001b[0;34m\"Salary:\"\u001b[0m\u001b[0;34m,\u001b[0m \u001b[0mSteve\u001b[0m\u001b[0;34m.\u001b[0m\u001b[0m__salary\u001b[0m\u001b[0;34m)\u001b[0m  \u001b[0;31m# this will cause an error\u001b[0m\u001b[0;34m\u001b[0m\u001b[0;34m\u001b[0m\u001b[0m\n\u001b[0m",
            "\u001b[0;31mAttributeError\u001b[0m: 'Employee' object has no attribute '__salary'"
          ]
        }
      ]
    },
    {
      "cell_type": "markdown",
      "source": [
        "## Private methods\n",
        "\n",
        "Note: Methods are usually public since they provide an interface for the class properties and the main code to interact with each other."
      ],
      "metadata": {
        "id": "MZFOYTwAoD40"
      }
    },
    {
      "cell_type": "code",
      "source": [
        "class Employee:\n",
        "    def __init__(self, ID, salary):\n",
        "        self.ID = ID\n",
        "        self.__salary = salary  # salary is a private property\n",
        "\n",
        "    def displaySalary(self):  # displaySalary is a public method\n",
        "        print(\"Salary:\", self.__salary)\n",
        "\n",
        "    def __displayID(self):  # displayID is a private method\n",
        "        print(\"ID:\", self.ID)\n",
        "\n",
        "\n",
        "Steve = Employee(3789, 2500)\n",
        "Steve.displaySalary()\n",
        "Steve.__displayID()  # this will generate an error\n"
      ],
      "metadata": {
        "colab": {
          "base_uri": "https://localhost:8080/",
          "height": 202
        },
        "id": "9tGG-UZpn8wR",
        "outputId": "24acc310-7cb3-4701-dfe9-9a8f84ce501e"
      },
      "execution_count": null,
      "outputs": [
        {
          "output_type": "stream",
          "name": "stdout",
          "text": [
            "Salary: 2500\n"
          ]
        },
        {
          "output_type": "error",
          "ename": "AttributeError",
          "evalue": "'Employee' object has no attribute '__displayID'",
          "traceback": [
            "\u001b[0;31m---------------------------------------------------------------------------\u001b[0m",
            "\u001b[0;31mAttributeError\u001b[0m                            Traceback (most recent call last)",
            "\u001b[0;32m<ipython-input-31-01cf5d2c8a99>\u001b[0m in \u001b[0;36m<cell line: 15>\u001b[0;34m()\u001b[0m\n\u001b[1;32m     13\u001b[0m \u001b[0mSteve\u001b[0m \u001b[0;34m=\u001b[0m \u001b[0mEmployee\u001b[0m\u001b[0;34m(\u001b[0m\u001b[0;36m3789\u001b[0m\u001b[0;34m,\u001b[0m \u001b[0;36m2500\u001b[0m\u001b[0;34m)\u001b[0m\u001b[0;34m\u001b[0m\u001b[0;34m\u001b[0m\u001b[0m\n\u001b[1;32m     14\u001b[0m \u001b[0mSteve\u001b[0m\u001b[0;34m.\u001b[0m\u001b[0mdisplaySalary\u001b[0m\u001b[0;34m(\u001b[0m\u001b[0;34m)\u001b[0m\u001b[0;34m\u001b[0m\u001b[0;34m\u001b[0m\u001b[0m\n\u001b[0;32m---> 15\u001b[0;31m \u001b[0mSteve\u001b[0m\u001b[0;34m.\u001b[0m\u001b[0m__displayID\u001b[0m\u001b[0;34m(\u001b[0m\u001b[0;34m)\u001b[0m  \u001b[0;31m# this will generate an error\u001b[0m\u001b[0;34m\u001b[0m\u001b[0;34m\u001b[0m\u001b[0m\n\u001b[0m",
            "\u001b[0;31mAttributeError\u001b[0m: 'Employee' object has no attribute '__displayID'"
          ]
        }
      ]
    },
    {
      "cell_type": "markdown",
      "source": [
        "## Accessing private attributes in the main code#\n",
        "\n",
        "Properties and methods with the __ prefix are usually present to make sure that the user does not carelessly access them. Python allows for free hand to the user to avoid any future complications in the code. If the user believes it is absolutely necessary to access a private property or a method, they can access it using the **_ClassName** prefix for the property or method.\n",
        "\n"
      ],
      "metadata": {
        "id": "yAwnWSCqoaGY"
      }
    },
    {
      "cell_type": "code",
      "source": [
        "class Employee:\n",
        "    def __init__(self, ID, salary):\n",
        "        self.ID = ID\n",
        "        self.__salary = salary  # salary is a private property\n",
        "\n",
        "\n",
        "Steve = Employee(3789, 2500)\n",
        "print(Steve._Employee__salary)  # accessing a private property\n"
      ],
      "metadata": {
        "colab": {
          "base_uri": "https://localhost:8080/"
        },
        "id": "7KS8Dx9aoJk4",
        "outputId": "c45b8604-a487-4339-d5db-dc6f8f07212e"
      },
      "execution_count": null,
      "outputs": [
        {
          "output_type": "stream",
          "name": "stdout",
          "text": [
            "2500\n"
          ]
        }
      ]
    },
    {
      "cell_type": "markdown",
      "source": [
        "## Not so protected\n",
        "\n",
        "Protected properties and methods in other languages can be accessed by classes and their subclasses. Python does not have a strict rule for accessing properties and methods, so it does not have the protected access modifier.\n",
        "\n",
        "\n",
        "\n",
        "# Information Hiding\n",
        "\n",
        "In OOP, objects and classes are the fundamental entities. Objects are created using classes. One can observe that classes contain properties and that objects are created to manipulate and access these properties. To make this object-oriented system more reliable and error free, it is a good practice to limit access to the class members at times\n",
        "\n",
        "`Information hiding refers to the concept of hiding the inner workings of a class and simply providing an interface through which the outside world can interact with the class without knowing what’s going on inside.`\n",
        "\n",
        "The purpose is to implement classes in such a way that the instances (objects) of these classes should not be able to cause any unauthorized access or change in the original contents of a class. One class does not need to know anything about the underlying algorithms of another class.\n",
        "\n",
        "A real life example\n",
        "Let’s apply this to a real-world scenario. Take the doctor-patient model. In the case of an illness, the patient consults the doctor, after which he or she is prescribed an appropriate medicine.\n",
        "\n",
        "The patient only knows the process of going to the doctor. The logic and reasoning behind the doctor’s prescription are unknown to the patient. A patient will not understand the medical details the doctor uses to reach his/her decision on the treatment.\n",
        "\n",
        "This is a classic example of the patient class interacting with the doctor class without knowing the inner workings of the doctor class.\n",
        "\n",
        "Components of data hiding:\n",
        "Data hiding can be divided into two primary components:\n",
        "\n",
        "1. Encapsulation\n",
        "2. Abstraction\n",
        "\n",
        "\n",
        "## Encapsulation\n",
        "Encapsulation is a fundamental programming technique used to achieve data hiding in OOP.\n",
        "\n",
        "`Encapsulation in OOP refers to binding data and the methods to manipulate that data together in a single unit, that is, class.`\n",
        "\n",
        "When encapsulating classes, a good convention is to declare all variables of a class private. This will restrict direct access by the code outside that class.\n",
        "\n",
        "At this point, a question can be raised: If the methods and variables are encapsulated in a class, then how can they be used outside of that class?\n",
        "\n",
        "The answer to this is simple. One has to implement public methods to let the outside world communicate with this class. These methods are called getters and setters. We can also implement other custom methods.\n",
        "\n",
        "Advantages of encapsulation\n",
        "- Classes make the code easy to change and maintain.\n",
        "- Properties to be hidden can be specified easily.\n",
        "- We decide which outside classes or functions can access the class properties.\n",
        "\n",
        "\n",
        "## Getters and Setters:\n",
        "A getter method allows reading a property’s value.\n",
        "\n",
        "A setter method allows modifying a property’s value.\n",
        "\n"
      ],
      "metadata": {
        "id": "GcG4BltIowyR"
      }
    },
    {
      "cell_type": "code",
      "source": [
        "\n",
        "\n",
        "class User:\n",
        "  def __init__( self, username=None):\n",
        "    self.__username = username\n",
        "\n",
        "  def setUsername( self, x):\n",
        "    self.__username = x\n",
        "\n",
        "  def getUsername( self):\n",
        "    return ( self.__username )\n",
        "\n",
        "\n",
        "Steve = User('steve1')\n",
        "print('Before setting:', Steve.getUsername())\n",
        "Steve.setUsername('steve2')\n",
        "print('After setting:', Steve.getUsername())"
      ],
      "metadata": {
        "colab": {
          "base_uri": "https://localhost:8080/"
        },
        "id": "Geb3y-XQouj0",
        "outputId": "91a3be96-7759-439e-d592-b23bc1dcc511"
      },
      "execution_count": null,
      "outputs": [
        {
          "output_type": "stream",
          "name": "stdout",
          "text": [
            "Before setting: steve1\n",
            "After setting: steve2\n"
          ]
        }
      ]
    },
    {
      "cell_type": "markdown",
      "source": [
        "Encapsulation refers to the concept of binding data and the methods operating on that data in a single unit, which is also called a class.\n",
        "\n",
        "The goal is to prevent this bound data from any unwanted access by the code outside this class. Let’s understand this by using an example of a very basic User class.\n",
        "\n",
        "Consider that we are up for designing an application and are working on modeling the log in part of that application. We know that a user needs a username and a password to log into the application.\n",
        "\n",
        "An elementary User class will be modeled as:\n",
        "\n",
        "Having a property userName\n",
        "Having a property password\n",
        "A method named login() to grant access\n",
        "Whenever a new user comes, a new object can be created by passing the userName and password to the constructor of this class.\n"
      ],
      "metadata": {
        "id": "eJIG3EG5seNG"
      }
    },
    {
      "cell_type": "code",
      "source": [
        "# A bad example\n",
        "\n",
        "class User:\n",
        "    def __init__(self, userName=None, password=None):\n",
        "        self.userName = userName\n",
        "        self.password = password\n",
        "\n",
        "    def login(self, userName, password):\n",
        "        if ((self.userName.lower() == userName.lower())\n",
        "                and (self.password == password)):\n",
        "            print(\"Access Granted!\")\n",
        "        else:\n",
        "            print(\"Invalid Credentials!\")\n",
        "\n",
        "\n",
        "Steve = User(\"Steve\", \"12345\")\n",
        "Steve.login(\"steve\", \"12345\")\n",
        "Steve.login(\"steve\", \"6789\")\n",
        "Steve.password = \"6789\"\n",
        "Steve.login(\"steve\", \"6789\")\n"
      ],
      "metadata": {
        "colab": {
          "base_uri": "https://localhost:8080/"
        },
        "id": "iZmIRBJhsTgT",
        "outputId": "622ba455-eaff-4225-e566-0c9448bda8ae"
      },
      "execution_count": null,
      "outputs": [
        {
          "output_type": "stream",
          "name": "stdout",
          "text": [
            "Access Granted!\n",
            "Invalid Credentials!\n",
            "Access Granted!\n"
          ]
        }
      ]
    },
    {
      "cell_type": "markdown",
      "source": [
        "In the above coding example, we can observe that anyone can access, change, or print the password and userName fields directly from the main code. This is **dangerous** in the case of this User class because there is no encapsulation of the credentials of a user, which means anyone can access their account by manipulating the stored data. So, the above code does not follow good coding practices."
      ],
      "metadata": {
        "id": "Tsz0lHFdszdL"
      }
    },
    {
      "cell_type": "code",
      "source": [
        "# A Good Example\n",
        "\n",
        "class User:\n",
        "    def __init__(self, userName=None, password=None):\n",
        "        self.__userName = userName\n",
        "        self.__password = password\n",
        "\n",
        "    def login(self, userName, password):\n",
        "        if ((self.__userName.lower() == userName.lower())\n",
        "                and (self.__password == password)):\n",
        "            print(\n",
        "                \"Access Granted against username:\",\n",
        "                self.__userName.lower(),\n",
        "                \"and password:\",\n",
        "                self.__password)\n",
        "        else:\n",
        "            print(\"Invalid Credentials!\")\n",
        "\n",
        "\n",
        "# created a new User object and stored the password and username\n",
        "Steve = User(\"Steve\", \"12345\")\n",
        "Steve.login(\"steve\", \"12345\")  # Grants access because credentials are valid\n",
        "\n",
        "# does not grant access since the credentails are invalid\n",
        "Steve.login(\"steve\", \"6789\")\n",
        "Steve.__password  # compilation error will occur due to this line\n",
        "\n"
      ],
      "metadata": {
        "colab": {
          "base_uri": "https://localhost:8080/",
          "height": 239
        },
        "id": "mo7_nD0qssC9",
        "outputId": "89563d82-080a-4448-e210-a5563eebe17d"
      },
      "execution_count": null,
      "outputs": [
        {
          "output_type": "stream",
          "name": "stdout",
          "text": [
            "Access Granted against username: steve and password: 12345\n",
            "Invalid Credentials!\n"
          ]
        },
        {
          "output_type": "error",
          "ename": "AttributeError",
          "evalue": "'User' object has no attribute '__password'",
          "traceback": [
            "\u001b[0;31m---------------------------------------------------------------------------\u001b[0m",
            "\u001b[0;31mAttributeError\u001b[0m                            Traceback (most recent call last)",
            "\u001b[0;32m<ipython-input-35-3e6cddcf5e82>\u001b[0m in \u001b[0;36m<cell line: 26>\u001b[0;34m()\u001b[0m\n\u001b[1;32m     24\u001b[0m \u001b[0;31m# does not grant access since the credentails are invalid\u001b[0m\u001b[0;34m\u001b[0m\u001b[0;34m\u001b[0m\u001b[0m\n\u001b[1;32m     25\u001b[0m \u001b[0mSteve\u001b[0m\u001b[0;34m.\u001b[0m\u001b[0mlogin\u001b[0m\u001b[0;34m(\u001b[0m\u001b[0;34m\"steve\"\u001b[0m\u001b[0;34m,\u001b[0m \u001b[0;34m\"6789\"\u001b[0m\u001b[0;34m)\u001b[0m\u001b[0;34m\u001b[0m\u001b[0;34m\u001b[0m\u001b[0m\n\u001b[0;32m---> 26\u001b[0;31m \u001b[0mSteve\u001b[0m\u001b[0;34m.\u001b[0m\u001b[0m__password\u001b[0m  \u001b[0;31m# compilation error will occur due to this line\u001b[0m\u001b[0;34m\u001b[0m\u001b[0;34m\u001b[0m\u001b[0m\n\u001b[0m\u001b[1;32m     27\u001b[0m \u001b[0;34m\u001b[0m\u001b[0m\n",
            "\u001b[0;31mAttributeError\u001b[0m: 'User' object has no attribute '__password'"
          ]
        }
      ]
    },
    {
      "cell_type": "markdown",
      "source": [
        "In the code below, an AttributeError will be thrown because the code outside the User class has tried to access a private property.\n",
        "\n",
        "We can observe that no one can access, change, or print the __password and __userName fields directly from the main code. This is a proper implementation of encapsulation.\n",
        "\n",
        "Note: For encapsulating a class, all the properties should be private and any access to the properties should be through methods such as getters and setters.\n",
        "\n",
        "This is the concept of encapsulation. All the properties containing data are private, and the methods provide an interface to access those private properties.\n"
      ],
      "metadata": {
        "id": "7aJc28bEtAuv"
      }
    },
    {
      "cell_type": "markdown",
      "source": [
        "## Inheritance\n",
        "\n",
        "Inheritance provides a way to create a new class from an existing class. The new class is a specialized version of the existing class such that it inherits all the non-private fields (variables) and methods of the existing class. The existing class is used as a starting point or as a base to create the new class.\n",
        "\n",
        "**IS A** relationship\n",
        "\n",
        "Python IS A Programming Language.\n",
        "\n",
        "In inheritance, in order to create a new class based on an existing class, we use the following terminology:\n",
        "\n",
        "Parent Class (Super Class or Base Class): This class allows the reuse of its public properties in another class.\n",
        "Child Class (Sub Class or Derived Class): This class inherits or extends the superclass.\n",
        " A child class has all public attributes of the parent class.\n"
      ],
      "metadata": {
        "id": "idSan2Re2j69"
      }
    },
    {
      "cell_type": "code",
      "source": [
        "\n",
        "\n",
        "\n",
        "class ParentClass:\n",
        "  pass\n",
        "\n",
        "\n",
        "\n",
        "class ChildClass( ParentClass ):\n",
        "  pass"
      ],
      "metadata": {
        "id": "Mb9ZUJ-9s74_"
      },
      "execution_count": null,
      "outputs": []
    },
    {
      "cell_type": "code",
      "source": [
        "\n",
        "class Vehicle:\n",
        "    def __init__(self, make, color, model):\n",
        "        self.make = make\n",
        "        self.color = color\n",
        "        self.model = model\n",
        "\n",
        "    def printDetails(self):\n",
        "        print(\"Manufacturer:\", self.make)\n",
        "        print(\"Color:\", self.color)\n",
        "        print(\"Model:\", self.model)\n",
        "\n",
        "\n",
        "class Car(Vehicle):\n",
        "    def __init__(self, make, color, model, doors):\n",
        "        # calling the constructor from parent class\n",
        "        Vehicle.__init__(self, make, color, model)\n",
        "        self.doors = doors\n",
        "\n",
        "    def printCarDetails(self):\n",
        "        self.printDetails()\n",
        "        print(\"Doors:\", self.doors)\n",
        "\n",
        "\n",
        "obj1 = Car(\"Suzuki\", \"Grey\", \"2015\", 4)\n",
        "obj1.printCarDetails()\n"
      ],
      "metadata": {
        "colab": {
          "base_uri": "https://localhost:8080/"
        },
        "id": "QM-dZTTt3NqE",
        "outputId": "6fb578a1-e0c8-4166-e524-5db699de5e2c"
      },
      "execution_count": null,
      "outputs": [
        {
          "output_type": "stream",
          "name": "stdout",
          "text": [
            "Manufacturer: Suzuki\n",
            "Color: Grey\n",
            "Model: 2015\n",
            "Doors: 4\n"
          ]
        }
      ]
    },
    {
      "cell_type": "markdown",
      "source": [
        "What is the **super**() function?\n",
        "\n",
        "It is used in a child class to refer to the parent class without explicitly naming it. It makes the code more manageable, and there is no need to know the name of the parent class to access its attributes."
      ],
      "metadata": {
        "id": "bKxPklbdfJgf"
      }
    },
    {
      "cell_type": "code",
      "source": [
        "# Accessing parent class properties\n",
        "\n",
        "\n",
        "class Vehicle:\n",
        "  fuelCap = 50\n",
        "\n",
        "\n",
        "class Car(Vehicle):\n",
        "  fuelCap = 90\n",
        "\n",
        "  def display(self):\n",
        "    # accessing fuelCap from Vehicle class using super()\n",
        "    print(\"Fuel class from the Vehical class:\", super().fuelCap )\n",
        "\n",
        "    # acessing fuelCap from the Car class using self\n",
        "    print(\"Fuel class from the Car class:\", self.fuelCap )\n",
        "\n",
        "\n",
        "######\n",
        "\n",
        "obj1 = Car()\n",
        "obj1.display()"
      ],
      "metadata": {
        "id": "hu_wUPWg3WrK",
        "colab": {
          "base_uri": "https://localhost:8080/"
        },
        "outputId": "a10f24ef-d35b-455d-aac0-5653e0200b54"
      },
      "execution_count": null,
      "outputs": [
        {
          "output_type": "stream",
          "name": "stdout",
          "text": [
            "Fuel class from the Vehical class: 50\n",
            "Fuel class from the Car class: 90\n"
          ]
        }
      ]
    },
    {
      "cell_type": "code",
      "source": [
        "# Calling the parent class methods\n",
        "\n",
        "class Vehicle:\n",
        "  def display(self):\n",
        "    print(\" I am from Vehicle Class\")\n",
        "\n",
        "\n",
        "class Car(Vehicle):\n",
        "  def display(self):\n",
        "    super().display()\n",
        "    print(\"I am from Car class\")\n",
        "\n",
        "\n",
        "###\n",
        "obj1 = Car()\n",
        "obj1.display()\n",
        "\n"
      ],
      "metadata": {
        "colab": {
          "base_uri": "https://localhost:8080/"
        },
        "id": "CBtgD1bbgRQy",
        "outputId": "19ae97c4-fc15-40c4-a579-f79003cbebbf"
      },
      "execution_count": null,
      "outputs": [
        {
          "output_type": "stream",
          "name": "stdout",
          "text": [
            " I am from Vehicle Class\n",
            "I am from Car class\n"
          ]
        }
      ]
    },
    {
      "cell_type": "code",
      "source": [
        "# Using with initializers\n",
        "# Another essential use of the function super() is to call\n",
        "# the initializer of the parent class from inside the initializer of the child class.\n",
        "\n",
        "\n",
        "class Parent:\n",
        "  def __init__(self, a, b ):\n",
        "    self.a = a\n",
        "    self.b = b\n",
        "\n",
        "\n",
        "\n",
        "class Child( Parent ):\n",
        "  def __init__( self ,a,b, c ):\n",
        "    self.c = c\n",
        "    super().__init__(a, b)\n",
        "\n",
        "\n",
        "##\n",
        "\n",
        "obj = Child(1,2,3)\n",
        "print( obj.a,  obj.b, obj.c )"
      ],
      "metadata": {
        "colab": {
          "base_uri": "https://localhost:8080/"
        },
        "id": "bGqxL6B-g0pr",
        "outputId": "cf22115b-3fe6-46a3-a634-b50ef512b6fa"
      },
      "execution_count": null,
      "outputs": [
        {
          "output_type": "stream",
          "name": "stdout",
          "text": [
            "1 2 3\n"
          ]
        }
      ]
    },
    {
      "cell_type": "markdown",
      "source": [
        "# Types of Inheritance\n",
        "Single\n",
        "Multi-level\n",
        "Hierarchical\n",
        "Multiple\n",
        "Hybrid\n",
        "\n",
        "1. Single inheritance:\n",
        "In single inheritance, there is only a single class extending from another class. We can take the example of the Vehicle class as the parent class, and the Car class as the child class.\n",
        "\n",
        "\n"
      ],
      "metadata": {
        "id": "TlEMvN8dhxjF"
      }
    },
    {
      "cell_type": "code",
      "source": [
        "class Vehicle:\n",
        "  def setTopSpeed(self, speed):\n",
        "    self.topSpeed = speed\n",
        "    print(\"Top speed set to:\", self.topSpeed )\n",
        "\n",
        "\n",
        "class Car(Vehicle):\n",
        "  def openTrunk(self):\n",
        "    print(\"Trunk is now Open\")\n",
        "\n",
        "\n",
        "tata = Car()\n",
        "tata.setTopSpeed(100)\n",
        "tata.openTrunk()"
      ],
      "metadata": {
        "colab": {
          "base_uri": "https://localhost:8080/"
        },
        "id": "uPc1zH7ghi8o",
        "outputId": "f1dae9eb-a1a7-45a7-b27b-d8117eba2ac3"
      },
      "execution_count": null,
      "outputs": [
        {
          "output_type": "stream",
          "name": "stdout",
          "text": [
            "Top speed set to: 100\n",
            "Trunk is now Open\n"
          ]
        }
      ]
    },
    {
      "cell_type": "markdown",
      "source": [
        "Multi-level inheritance.\n",
        "\n",
        "When a class is derived from a class which itself is derived from another class, it is called multilevel inheritance."
      ],
      "metadata": {
        "id": "L6RKgfkriyMB"
      }
    },
    {
      "cell_type": "code",
      "source": [
        "class Vehicle:\n",
        "  def setTopSpeed(self, speed):\n",
        "    self.topSpeed = speed\n",
        "    print(\"Top speed set to:\", self.topSpeed )\n",
        "\n",
        "\n",
        "class Car(Vehicle):\n",
        "  def openTrunk(self):\n",
        "    print(\"Trunk is now Open\")\n",
        "\n",
        "\n",
        "class Hybrid(Car):\n",
        "  def turnOnHybrid(self):\n",
        "    print(\"Hybrid mode is switched ON\")\n",
        "\n",
        "\n",
        "\n",
        "cng = Hybrid()\n",
        "cng.setTopSpeed = 80\n",
        "cng.openTrunk()\n",
        "cng.turnOnHybrid()"
      ],
      "metadata": {
        "colab": {
          "base_uri": "https://localhost:8080/"
        },
        "id": "WQCvlRllioU9",
        "outputId": "562793c6-3f41-46f0-84ba-b0a7da167ca3"
      },
      "execution_count": null,
      "outputs": [
        {
          "output_type": "stream",
          "name": "stdout",
          "text": [
            "Trunk is now Open\n",
            "Hybrid mode is switched ON\n"
          ]
        }
      ]
    },
    {
      "cell_type": "markdown",
      "source": [
        "Hierarchical inheritance#\n",
        "\n",
        "In hierarchical inheritance, more than one class extends, as per the requirement of the design, from the same base class. The common attributes of these child classes are implemented inside the base class.\n",
        "\n",
        "Example:\n",
        "\n",
        "A Car IS A Vehicle\n",
        "\n",
        "A Truck IS A Vehicle"
      ],
      "metadata": {
        "id": "fzOyEtkMjnqC"
      }
    },
    {
      "cell_type": "code",
      "source": [
        "class Vehicle:  # parent class\n",
        "    def setTopSpeed(self, speed):  # defining the set\n",
        "        self.topSpeed = speed\n",
        "        print(\"Top speed is set to\", self.topSpeed)\n",
        "\n",
        "\n",
        "class Car(Vehicle):  # child class of Vehicle\n",
        "    pass\n",
        "\n",
        "\n",
        "class Truck(Vehicle):  # child class of Vehicle\n",
        "    pass\n",
        "\n",
        "\n",
        "corolla = Car()  # creating an object of the Car class\n",
        "corolla.setTopSpeed(220)  # accessing methods from the parent class\n",
        "\n",
        "volvo = Truck()  # creating an object of the Truck class\n",
        "volvo.setTopSpeed(180)  # accessing methods from the parent class\n"
      ],
      "metadata": {
        "colab": {
          "base_uri": "https://localhost:8080/"
        },
        "id": "U5Uj0BNCjQWF",
        "outputId": "9ecba802-9fd0-4f75-d09e-ee4af3bc1313"
      },
      "execution_count": null,
      "outputs": [
        {
          "output_type": "stream",
          "name": "stdout",
          "text": [
            "Top speed is set to 220\n",
            "Top speed is set to 180\n"
          ]
        }
      ]
    },
    {
      "cell_type": "markdown",
      "source": [
        "Multiple inheritance\n",
        "\n",
        "When a class is derived from more than one base class, i.e., when a class has more than one immediate parent class, it is called multiple inheritance.\n",
        "\n",
        "Example:\n",
        "\n",
        "HybridEngine IS A ElectricEngine.\n",
        "\n",
        "HybridEngine IS A CombustionEngine as well."
      ],
      "metadata": {
        "id": "qdJr1R3Xj5eZ"
      }
    },
    {
      "cell_type": "code",
      "source": [
        "class CombustionEngine():\n",
        "    def setTankCapacity(self, tankCapacity):\n",
        "        self.tankCapacity = tankCapacity\n",
        "\n",
        "\n",
        "class ElectricEngine():\n",
        "    def setChargeCapacity(self, chargeCapacity):\n",
        "        self.chargeCapacity = chargeCapacity\n",
        "\n",
        "# Child class inherited from CombustionEngine and ElectricEngine\n",
        "class HybridEngine(CombustionEngine, ElectricEngine):\n",
        "    def printDetails(self):\n",
        "        print(\"Tank Capacity:\", self.tankCapacity)\n",
        "        print(\"Charge Capacity:\", self.chargeCapacity)\n",
        "\n",
        "car = HybridEngine()\n",
        "car.setChargeCapacity(\"250 W\")\n",
        "car.setTankCapacity(\"20 Litres\")\n",
        "car.printDetails()"
      ],
      "metadata": {
        "colab": {
          "base_uri": "https://localhost:8080/"
        },
        "id": "tARffEV-jwHq",
        "outputId": "3af13cb0-e3aa-4434-e5ca-5b7e7a14c6de"
      },
      "execution_count": null,
      "outputs": [
        {
          "output_type": "stream",
          "name": "stdout",
          "text": [
            "Tank Capacity: 20 Litres\n",
            "Charge Capacity: 250 W\n"
          ]
        }
      ]
    },
    {
      "cell_type": "markdown",
      "source": [
        "Hybrid inheritance\n",
        "\n",
        "A type of inheritance which is a combination of Multiple and Multi-level inheritance is called hybrid inheritance.\n",
        "\n",
        "CombustionEngine IS A Engine.\n",
        "\n",
        "ElectricEngine IS A Engine.\n",
        "\n",
        "HybridEngine IS A ElectricEngine and a CombustionEngine."
      ],
      "metadata": {
        "id": "Y3drlkK5kAkH"
      }
    },
    {
      "cell_type": "code",
      "source": [
        "class Engine:  # Parent class\n",
        "    def setPower(self, power):\n",
        "        self.power = power\n",
        "\n",
        "\n",
        "class CombustionEngine(Engine):  # Child class inherited from Engine\n",
        "    def setTankCapacity(self, tankCapacity):\n",
        "        self.tankCapacity = tankCapacity\n",
        "\n",
        "\n",
        "class ElectricEngine(Engine):  # Child class inherited from Engine\n",
        "    def setChargeCapacity(self, chargeCapacity):\n",
        "        self.chargeCapacity = chargeCapacity\n",
        "\n",
        "# Child class inherited from CombustionEngine and ElectricEngine\n",
        "\n",
        "\n",
        "class HybridEngine(CombustionEngine, ElectricEngine):\n",
        "    def printDetails(self):\n",
        "        print(\"Power:\", self.power)\n",
        "        print(\"Tank Capacity:\", self.tankCapacity)\n",
        "        print(\"Charge Capacity:\", self.chargeCapacity)\n",
        "\n",
        "\n",
        "car = HybridEngine()\n",
        "car.setPower(\"2000 CC\")\n",
        "car.setChargeCapacity(\"250 W\")\n",
        "car.setTankCapacity(\"20 Litres\")\n",
        "car.printDetails()\n"
      ],
      "metadata": {
        "colab": {
          "base_uri": "https://localhost:8080/"
        },
        "id": "Aj1MmlMvj908",
        "outputId": "24cf4ce5-7cb5-48b9-a10e-a7481d420208"
      },
      "execution_count": null,
      "outputs": [
        {
          "output_type": "stream",
          "name": "stdout",
          "text": [
            "Power: 2000 CC\n",
            "Tank Capacity: 20 Litres\n",
            "Charge Capacity: 250 W\n"
          ]
        }
      ]
    },
    {
      "cell_type": "markdown",
      "source": [
        "# What is Polymorphism?\n",
        "\n",
        "In programming, polymorphism refers to the same object exhibiting different forms and behaviors.\n",
        "\n",
        "For example, take the Shape Class. The exact shape you choose can be anything. It can be a rectangle, a circle, a polygon, or a diamond. While, these are all shapes, their properties are different. This is called polymorphism.\n",
        "\n",
        "\n",
        "Assume there is a parent class named Shape from which the child classes Rectangle, Circle, Polygon, and Diamond are derived.\n",
        "\n",
        "Suppose your application will need methods to calculate the area of each specific shape. The area for each shape is calculated differently, which is why you can’t have a single implementation. You could throw in separate methods in each class (for instance, getSquareArea(), getCircleArea() etc.). But this makes it harder to remember each method’s name.\n",
        "\n",
        "\n",
        "It would be better if all specific area calculation methods could be called getArea(). You would only have to remember one method name and when you call that method, the method specific to that object would be called. This can be achieved in object-oriented programming using polymorphism. The base class declares a function without providing an implementation. Each derived class inherits the function declaration and can provide its own implementation\n",
        "\n",
        "Consider that the Shape class has a method called getArea(), which is inherited by all subclasses mentioned. With polymorphism, each subclass may have its own way of implementing the method. For example, when the getArea() method is called on an object of the Rectangle class, the method will respond by displaying the area of the rectangle. On the other hand, when the same method is called on an object of the Circle class, the circle’s area will be calculated and displayed on the screen.\n",
        "\n",
        "# Implementing Polymorphism Using Methods"
      ],
      "metadata": {
        "id": "J6IDs-1NkeRF"
      }
    },
    {
      "cell_type": "code",
      "source": [
        "# Consider two shapes that are defined as classes: Rectangle and Circle.\n",
        "# These classes contain the getArea() method that calculates the area for the respective shape depending on the values of their properties.\n",
        "\n",
        "\n",
        "class Rectangle():\n",
        "\n",
        "  def __init__(self, width=0, height=0 ):\n",
        "    self.width = width\n",
        "    self.height = height\n",
        "    self.sides = 4\n",
        "\n",
        "\n",
        "  def getArea(self):\n",
        "    return ( self.width * self.height)\n",
        "\n",
        "\n",
        "class Circle():\n",
        "  def __init__(self, radius=0):\n",
        "    self.radius = radius\n",
        "    self.sides = 0\n",
        "\n",
        "  def getArea(self):\n",
        "    return ( self.radius * self.radius * 3.14 )\n",
        "\n",
        "\n",
        "shapes = [ Rectangle(6,10), Circle(7) ]\n",
        "\n",
        "print(\"Sides of a rectangle are\", str(shapes[0].sides))\n",
        "print(\"Area of rectangle is:\", str(shapes[0].getArea()))\n",
        "\n",
        "print(\"Sides of a circle are\", str(shapes[1].sides))\n",
        "print(\"Area of circle is:\", str(shapes[1].getArea()))\n",
        "\n"
      ],
      "metadata": {
        "colab": {
          "base_uri": "https://localhost:8080/"
        },
        "id": "h2cWcELdkPri",
        "outputId": "b9393f0e-8e59-4b3b-c300-706ec619cab7"
      },
      "execution_count": null,
      "outputs": [
        {
          "output_type": "stream",
          "name": "stdout",
          "text": [
            "Sides of a rectangle are 4\n",
            "Area of rectangle is: 60\n",
            "Sides of a circle are 0\n",
            "Area of circle is: 153.86\n"
          ]
        }
      ]
    },
    {
      "cell_type": "markdown",
      "source": [
        "# Implementing Polymorphism Using Inheritance\n",
        "\n",
        "We can add new data and methods to a class through inheritance. But what if we want our derived class to inherit a method from the base class and have a different implementation for it? That is when polymorphism, a fundamental concept in the OOP paradigm, comes into play."
      ],
      "metadata": {
        "id": "pRw8xsWv2P21"
      }
    },
    {
      "cell_type": "code",
      "source": [
        "\n",
        "class Shape:\n",
        "  def __init__(self):\n",
        "    self.sides = 0\n",
        "\n",
        "\n",
        "class Rectangle():\n",
        "\n",
        "  def __init__(self, width=0, height=0 ):\n",
        "    self.width = width\n",
        "    self.height = height\n",
        "    self.sides = 4\n",
        "\n",
        "\n",
        "  def getArea(self):\n",
        "    return ( self.width * self.height)\n",
        "\n",
        "\n",
        "class Circle():\n",
        "  def __init__(self, radius=0):\n",
        "    self.radius = radius\n",
        "    self.sides = 0\n",
        "\n",
        "  def getArea(self):\n",
        "    return ( self.radius * self.radius * 3.14 )\n",
        "\n",
        "\n",
        "##\n",
        "\n",
        "shapes = [Rectangle(6, 10), Circle(7)]\n",
        "print(\"Area of rectangle is:\", str(shapes[0].getArea()))\n",
        "print(\"Area of circle is:\", str(shapes[1].getArea()))\n"
      ],
      "metadata": {
        "colab": {
          "base_uri": "https://localhost:8080/"
        },
        "id": "lIYMBUb32FCT",
        "outputId": "e71f90c8-4518-49c8-d251-891ee1bf872f"
      },
      "execution_count": null,
      "outputs": [
        {
          "output_type": "stream",
          "name": "stdout",
          "text": [
            "Area of rectangle is: 60\n",
            "Area of circle is: 153.86\n"
          ]
        }
      ]
    },
    {
      "cell_type": "markdown",
      "source": [
        "# Method Overriding\n",
        "\n",
        "Method overriding is the process of redefining a parent class’s method in a subclass.\n",
        "\n",
        "In method overriding:\n",
        "\n",
        "The method in the parent class is called the overridden method.\n",
        "The methods in the child classes are called the overriding methods.\n",
        "\n"
      ],
      "metadata": {
        "id": "4gbyaCI43E69"
      }
    },
    {
      "cell_type": "code",
      "source": [
        "class Shape:\n",
        "    def __init__(self):  # initializing sides of all shapes to 0\n",
        "        self.sides = 0\n",
        "\n",
        "    def getArea(self):\n",
        "        pass\n",
        "\n",
        "\n",
        "class Rectangle(Shape):  # derived form Shape class\n",
        "    # initializer\n",
        "    def __init__(self, width=0, height=0):\n",
        "        self.width = width\n",
        "        self.height = height\n",
        "        self.sides = 4\n",
        "\n",
        "    # method to calculate Area\n",
        "    def getArea(self):\n",
        "        return (self.width * self.height)\n",
        "\n",
        "\n",
        "class Circle(Shape):  # derived form Shape class\n",
        "    # initializer\n",
        "    def __init__(self, radius=0):\n",
        "        self.radius = radius\n",
        "\n",
        "    # method to calculate Area\n",
        "    def getArea(self):\n",
        "        return (self.radius * self.radius * 3.142)\n",
        "\n",
        "\n",
        "shapes = [Rectangle(6, 10), Circle(7)]\n",
        "print(\"Area of rectangle is:\", str(shapes[0].getArea()))\n",
        "print(\"Area of circle is:\", str(shapes[1].getArea()))\n"
      ],
      "metadata": {
        "colab": {
          "base_uri": "https://localhost:8080/"
        },
        "id": "W-X3zCC72hae",
        "outputId": "7039ff35-9b56-4933-c113-7ca9a0426830"
      },
      "execution_count": null,
      "outputs": [
        {
          "output_type": "stream",
          "name": "stdout",
          "text": [
            "Area of rectangle is: 60\n",
            "Area of circle is: 153.958\n"
          ]
        }
      ]
    },
    {
      "cell_type": "markdown",
      "source": [
        "# Operator Overloading\n",
        "\n",
        "Operators in Python can be overloaded to operate in a certain user-defined way. Whenever an operator is used in Python, its corresponding method is invoked to perform its predefined function. For example, when the + operator is called, it invokes the special function, __add__, in Python, but this operator acts differently for different data types. For example, the + operator adds the numbers when it is used between two int data types and merges two strings when it is used between string data types.\n"
      ],
      "metadata": {
        "id": "5B64S71_3nje"
      }
    },
    {
      "cell_type": "code",
      "source": [
        "print(5 + 3)  # adding integers using '+'\n",
        "print(\"money\" + \"maker\")  # merging strings using '+'\n"
      ],
      "metadata": {
        "colab": {
          "base_uri": "https://localhost:8080/"
        },
        "id": "rJG7y4wM3jDw",
        "outputId": "31c5efff-4cac-4d79-9f62-c2363586638f"
      },
      "execution_count": null,
      "outputs": [
        {
          "output_type": "stream",
          "name": "stdout",
          "text": [
            "8\n",
            "moneymaker\n"
          ]
        }
      ]
    },
    {
      "cell_type": "code",
      "source": [
        "class Com:\n",
        "    def __init__(self, real=0, imag=0):\n",
        "        self.real = real\n",
        "        self.imag = imag\n",
        "\n",
        "    def __add__(self, other):  # overloading the `+` operator\n",
        "        temp = Com(self.real + other.real, self.imag + other.imag)\n",
        "        return temp\n",
        "\n",
        "    def __sub__(self, other):  # overloading the `-` operator\n",
        "        temp = Com(self.real - other.real, self.imag - other.imag)\n",
        "        return temp\n",
        "\n",
        "\n",
        "obj1 = Com(3, 7)\n",
        "obj2 = Com(2, 5)\n",
        "\n",
        "obj3 = obj1 + obj2\n",
        "obj4 = obj1 - obj2\n",
        "\n",
        "\n",
        "print( obj3 )\n",
        "print(\"real of obj3:\", obj3.real)\n",
        "print(\"imag of obj3:\", obj3.imag)\n",
        "print(\"real of obj4:\", obj4.real)\n",
        "print(\"imag of obj4:\", obj4.imag)\n"
      ],
      "metadata": {
        "colab": {
          "base_uri": "https://localhost:8080/"
        },
        "id": "_sWbN2zI4EsD",
        "outputId": "5b4dd618-b570-4a3f-f6e7-13f188bb8d22"
      },
      "execution_count": null,
      "outputs": [
        {
          "output_type": "stream",
          "name": "stdout",
          "text": [
            "<__main__.Com object at 0x78493e1aa7a0>\n",
            "real of obj3: 5\n",
            "imag of obj3: 12\n",
            "real of obj4: 1\n",
            "imag of obj4: 2\n"
          ]
        }
      ]
    },
    {
      "cell_type": "code",
      "source": [
        "# self --> self object\n",
        "# other --> other Object\n"
      ],
      "metadata": {
        "id": "u2INCnuv4rEH"
      },
      "execution_count": null,
      "outputs": []
    },
    {
      "cell_type": "markdown",
      "source": [
        "# Implementing Polymorphism Using Duck Typing\n",
        "\n",
        "Duck typing is one of the most useful concepts in object-oriented programming in Python. Using duck typing, we can implement polymorphism without using inheritance.\n",
        "\n",
        "We say that if an object quacks like a duck, swims like a duck, eats like a duck or in short, acts like a duck, that object is a duck.\n"
      ],
      "metadata": {
        "id": "Swox3ugb5ipc"
      }
    },
    {
      "cell_type": "code",
      "source": [
        "x = 5  # type of x is an integer\n",
        "print(type(x))\n",
        "\n",
        "x = \"Educative\"  # type of x is now string\n",
        "print(type(x))"
      ],
      "metadata": {
        "colab": {
          "base_uri": "https://localhost:8080/"
        },
        "id": "b_S0JWm14zj6",
        "outputId": "14353ff5-ab35-4925-9116-0f590a1c70c0"
      },
      "execution_count": null,
      "outputs": [
        {
          "output_type": "stream",
          "name": "stdout",
          "text": [
            "<class 'int'>\n",
            "<class 'str'>\n"
          ]
        }
      ]
    },
    {
      "cell_type": "code",
      "source": [
        "# Implementing duck typing\n",
        "\n",
        "class Dog:\n",
        "  def Speak(self):\n",
        "    print(\"Bow Bow\")\n",
        "\n",
        "class Cat:\n",
        "  def Speak(self):\n",
        "    print(\"Meow Meow\")\n",
        "\n",
        "class AnimalSound:\n",
        "  def Sound( self, animal):\n",
        "    animal.Speak()\n",
        "\n",
        "\n",
        "sound = AnimalSound()\n",
        "\n",
        "dog = Dog()\n",
        "cat = Cat()\n",
        "\n",
        "sound.Sound(dog)\n",
        "sound.Sound(cat)\n",
        "\n"
      ],
      "metadata": {
        "colab": {
          "base_uri": "https://localhost:8080/"
        },
        "id": "XQG3ppks6EP0",
        "outputId": "d76fafe8-371c-4fae-9658-e1a66246933e"
      },
      "execution_count": null,
      "outputs": [
        {
          "output_type": "stream",
          "name": "stdout",
          "text": [
            "Bow Bow\n",
            "Meow Meow\n"
          ]
        }
      ]
    },
    {
      "cell_type": "markdown",
      "source": [
        "Now coming back to why it is called Duck typing: So, if a bird speaks like a duck, swims like a duck, and eats like a duck, that bird is a duck.\n",
        "\n",
        "\n",
        "# Abstract Base Classes\n",
        "\n",
        "Duck typing is useful as it simplifies the code and the user can implement the functions without worrying about the data type. But this may not be the case all the time. The user might not follow the instructions to implement the necessary steps for duck typing. To cater to this issue, Python introduced the concept of abstract base classes, or ABC.\n",
        "\n",
        "\n",
        "Abstract base classes define a set of methods and properties that a class must implement in order to be considered a duck-type instance of that class.\n",
        "\n",
        "Why use abstract base classes?\n",
        "\n"
      ],
      "metadata": {
        "id": "elHGNKCn6w7w"
      }
    },
    {
      "cell_type": "code",
      "source": [
        "class Shape:\n",
        "  def area( self ):\n",
        "    pass\n",
        "\n",
        "  def perimeter( self ):\n",
        "    pass\n",
        "\n",
        "\n",
        "class Square(Shape):\n",
        "  def __init__(self, length):\n",
        "    self.length = length\n",
        "\n",
        "  def area( self ):\n",
        "    return ( self.length, self.length )\n",
        "\n",
        "\n",
        "  def perimeter( self):\n",
        "    return ( 4 * self.length )\n",
        "\n",
        "shape = Shape()\n",
        "square = Square(4)"
      ],
      "metadata": {
        "id": "OUHmENSA6rZD"
      },
      "execution_count": null,
      "outputs": []
    },
    {
      "cell_type": "markdown",
      "source": [
        "The Square class, which is the child class of Shape, actually implements the methods area() and perimeter() of the Shape class. Shape class should provide a blueprint for its child classes to implement methods in it. To prevent the user from making a Shape class object, we use abstract base classes.\n",
        "\n"
      ],
      "metadata": {
        "id": "HoqvMwU58njU"
      }
    },
    {
      "cell_type": "markdown",
      "source": [
        "## Syntax\n",
        "\n",
        "```\n",
        "from abc import ABC, abstractmethod\n",
        "\n",
        "class ParentClass(ABC):\n",
        "\n",
        "    @abstractmethod\n",
        "    def method(self)\n",
        "```"
      ],
      "metadata": {
        "id": "hamRBi4Y8rbU"
      }
    },
    {
      "cell_type": "code",
      "source": [
        "from abc import ABC , abstractmethod\n",
        "\n",
        "class Shape(ABC): # shape is child class of ABC\n",
        "  @abstractmethod\n",
        "  def area(self):\n",
        "    pass\n",
        "\n",
        "  @abstractmethod\n",
        "  def perimeter(self):\n",
        "    pass"
      ],
      "metadata": {
        "id": "9uEw-BS18dfu"
      },
      "execution_count": null,
      "outputs": []
    },
    {
      "cell_type": "code",
      "source": [
        "class Square(Shape):\n",
        "  def __init__(self, length):\n",
        "    self.length = length\n",
        "\n",
        "\n",
        "shape = Shape()\n",
        "# this code will not compile since Shape has abstract methods without\n",
        "# method definitions in it"
      ],
      "metadata": {
        "colab": {
          "base_uri": "https://localhost:8080/",
          "height": 225
        },
        "id": "ddkFhr7O8qF2",
        "outputId": "19e79f89-9318-4cbe-8d78-a854b83a5b2b"
      },
      "execution_count": null,
      "outputs": [
        {
          "output_type": "error",
          "ename": "TypeError",
          "evalue": "Can't instantiate abstract class Shape with abstract methods area, perimeter",
          "traceback": [
            "\u001b[0;31m---------------------------------------------------------------------------\u001b[0m",
            "\u001b[0;31mTypeError\u001b[0m                                 Traceback (most recent call last)",
            "\u001b[0;32m<ipython-input-16-afe2b00f4bf7>\u001b[0m in \u001b[0;36m<cell line: 6>\u001b[0;34m()\u001b[0m\n\u001b[1;32m      4\u001b[0m \u001b[0;34m\u001b[0m\u001b[0m\n\u001b[1;32m      5\u001b[0m \u001b[0;34m\u001b[0m\u001b[0m\n\u001b[0;32m----> 6\u001b[0;31m \u001b[0mshape\u001b[0m \u001b[0;34m=\u001b[0m \u001b[0mShape\u001b[0m\u001b[0;34m(\u001b[0m\u001b[0;34m)\u001b[0m\u001b[0;34m\u001b[0m\u001b[0;34m\u001b[0m\u001b[0m\n\u001b[0m\u001b[1;32m      7\u001b[0m \u001b[0;31m# this code will not compile since Shape has abstract methods without\u001b[0m\u001b[0;34m\u001b[0m\u001b[0;34m\u001b[0m\u001b[0m\n\u001b[1;32m      8\u001b[0m \u001b[0;31m# method definitions in it\u001b[0m\u001b[0;34m\u001b[0m\u001b[0;34m\u001b[0m\u001b[0m\n",
            "\u001b[0;31mTypeError\u001b[0m: Can't instantiate abstract class Shape with abstract methods area, perimeter"
          ]
        }
      ]
    },
    {
      "cell_type": "code",
      "source": [
        "from abc import ABC, abstractmethod\n",
        "\n",
        "class Shape(ABC):  # Shape is a child class of ABC\n",
        "    @abstractmethod\n",
        "    def area(self):\n",
        "        pass\n",
        "\n",
        "    @abstractmethod\n",
        "    def perimeter(self):\n",
        "        pass\n",
        "\n",
        "\n",
        "class Square(Shape):\n",
        "    def __init__(self, length):\n",
        "        self.length = length\n",
        "\n",
        "    def area(self):\n",
        "        return (self.length * self.length)\n",
        "\n",
        "    def perimeter(self):\n",
        "        return (4 * self.length)\n",
        "\n",
        "\n",
        "shape = Shape()\n",
        "# this code will not compile since Shape has abstract methods without\n",
        "# method definitions in it\n"
      ],
      "metadata": {
        "colab": {
          "base_uri": "https://localhost:8080/",
          "height": 225
        },
        "id": "H_YZVenk9lwa",
        "outputId": "169ea064-3716-4503-af53-4a63e16f3be8"
      },
      "execution_count": null,
      "outputs": [
        {
          "output_type": "error",
          "ename": "TypeError",
          "evalue": "Can't instantiate abstract class Shape with abstract methods area, perimeter",
          "traceback": [
            "\u001b[0;31m---------------------------------------------------------------------------\u001b[0m",
            "\u001b[0;31mTypeError\u001b[0m                                 Traceback (most recent call last)",
            "\u001b[0;32m<ipython-input-17-d7c6b2b1f487>\u001b[0m in \u001b[0;36m<cell line: 25>\u001b[0;34m()\u001b[0m\n\u001b[1;32m     23\u001b[0m \u001b[0;34m\u001b[0m\u001b[0m\n\u001b[1;32m     24\u001b[0m \u001b[0;34m\u001b[0m\u001b[0m\n\u001b[0;32m---> 25\u001b[0;31m \u001b[0mshape\u001b[0m \u001b[0;34m=\u001b[0m \u001b[0mShape\u001b[0m\u001b[0;34m(\u001b[0m\u001b[0;34m)\u001b[0m\u001b[0;34m\u001b[0m\u001b[0;34m\u001b[0m\u001b[0m\n\u001b[0m\u001b[1;32m     26\u001b[0m \u001b[0;31m# this code will not compile since Shape has abstract methods without\u001b[0m\u001b[0;34m\u001b[0m\u001b[0;34m\u001b[0m\u001b[0m\n\u001b[1;32m     27\u001b[0m \u001b[0;31m# method definitions in it\u001b[0m\u001b[0;34m\u001b[0m\u001b[0;34m\u001b[0m\u001b[0m\n",
            "\u001b[0;31mTypeError\u001b[0m: Can't instantiate abstract class Shape with abstract methods area, perimeter"
          ]
        }
      ]
    },
    {
      "cell_type": "code",
      "source": [
        "# Note: Methods with @abstractmethod decorators must be defined in the child class.\n",
        "\n",
        "\n",
        "\n",
        "from abc import ABC, abstractmethod\n",
        "\n",
        "class Shape(ABC):  # Shape is a child class of ABC\n",
        "    @abstractmethod\n",
        "    def area(self):\n",
        "        pass\n",
        "\n",
        "    @abstractmethod\n",
        "    def perimeter(self):\n",
        "        pass\n",
        "\n",
        "\n",
        "class Square(Shape):\n",
        "    def __init__(self, length):\n",
        "        self.length = length\n",
        "\n",
        "    @abstractmethod\n",
        "    def area(self):\n",
        "        return (self.length * self.length)\n",
        "\n",
        "    @abstractmethod\n",
        "    def perimeter(self):\n",
        "        return (4 * self.length)\n",
        "\n",
        "\n",
        "shape = Shape()"
      ],
      "metadata": {
        "colab": {
          "base_uri": "https://localhost:8080/",
          "height": 187
        },
        "id": "k76ONc0H9yun",
        "outputId": "787068e9-09b7-45b6-dcb7-57fedc79bb32"
      },
      "execution_count": null,
      "outputs": [
        {
          "output_type": "error",
          "ename": "TypeError",
          "evalue": "Can't instantiate abstract class Shape with abstract methods area, perimeter",
          "traceback": [
            "\u001b[0;31m---------------------------------------------------------------------------\u001b[0m",
            "\u001b[0;31mTypeError\u001b[0m                                 Traceback (most recent call last)",
            "\u001b[0;32m<ipython-input-18-7795698b2919>\u001b[0m in \u001b[0;36m<cell line: 30>\u001b[0;34m()\u001b[0m\n\u001b[1;32m     28\u001b[0m \u001b[0;34m\u001b[0m\u001b[0m\n\u001b[1;32m     29\u001b[0m \u001b[0;34m\u001b[0m\u001b[0m\n\u001b[0;32m---> 30\u001b[0;31m \u001b[0mshape\u001b[0m \u001b[0;34m=\u001b[0m \u001b[0mShape\u001b[0m\u001b[0;34m(\u001b[0m\u001b[0;34m)\u001b[0m\u001b[0;34m\u001b[0m\u001b[0;34m\u001b[0m\u001b[0m\n\u001b[0m",
            "\u001b[0;31mTypeError\u001b[0m: Can't instantiate abstract class Shape with abstract methods area, perimeter"
          ]
        }
      ]
    },
    {
      "cell_type": "code",
      "source": [
        "# Python program showing\n",
        "# abstract base class work\n",
        "from abc import ABC, abstractmethod\n",
        "\n",
        "\n",
        "class Polygon(ABC):\n",
        "\n",
        "    @abstractmethod\n",
        "    def noofsides(self):\n",
        "        pass\n",
        "\n",
        "\n",
        "class Triangle(Polygon):\n",
        "\n",
        "    # overriding abstract method\n",
        "    def noofsides(self):\n",
        "        print(\"I have 3 sides\")\n",
        "\n",
        "\n",
        "class Pentagon(Polygon):\n",
        "\n",
        "    # overriding abstract method\n",
        "    def noofsides(self):\n",
        "        print(\"I have 5 sides\")\n",
        "\n",
        "\n",
        "class Hexagon(Polygon):\n",
        "\n",
        "    # overriding abstract method\n",
        "    def noofsides(self):\n",
        "        print(\"I have 6 sides\")\n",
        "\n",
        "\n",
        "class Quadrilateral(Polygon):\n",
        "\n",
        "    # overriding abstract method\n",
        "    def noofsides(self):\n",
        "        print(\"I have 4 sides\")\n",
        "\n",
        "\n",
        "# Driver code\n",
        "R = Triangle()\n",
        "R.noofsides()\n",
        "\n",
        "K = Quadrilateral()\n",
        "K.noofsides()\n",
        "\n",
        "R = Pentagon()\n",
        "R.noofsides()\n",
        "\n",
        "K = Hexagon()\n",
        "K.noofsides()"
      ],
      "metadata": {
        "colab": {
          "base_uri": "https://localhost:8080/"
        },
        "id": "u7pXx5H--DTk",
        "outputId": "e7d3f48f-509e-4d1d-dd69-e058a0e44cf8"
      },
      "execution_count": null,
      "outputs": [
        {
          "output_type": "stream",
          "name": "stdout",
          "text": [
            "I have 3 sides\n",
            "I have 4 sides\n",
            "I have 5 sides\n",
            "I have 6 sides\n"
          ]
        }
      ]
    },
    {
      "cell_type": "code",
      "source": [],
      "metadata": {
        "id": "TfFOSFDUAdZj"
      },
      "execution_count": null,
      "outputs": []
    }
  ]
}